{
  "cells": [
    {
      "cell_type": "markdown",
      "metadata": {
        "id": "view-in-github",
        "colab_type": "text"
      },
      "source": [
        "<a href=\"https://colab.research.google.com/github/Amrutha2567/ASEML/blob/main/Early_stage_diabetes_predictions.ipynb\" target=\"_parent\"><img src=\"https://colab.research.google.com/assets/colab-badge.svg\" alt=\"Open In Colab\"/></a>"
      ]
    },
    {
      "cell_type": "markdown",
      "metadata": {
        "id": "tzgz4x0ydyfp"
      },
      "source": [
        "##Importing Libraries\n"
      ]
    },
    {
      "cell_type": "code",
      "execution_count": null,
      "metadata": {
        "id": "BZXzlMfnqoKE"
      },
      "outputs": [],
      "source": [
        "import numpy as np\n",
        "import pandas as pd\n",
        "import matplotlib.pyplot as plt\n",
        "import seaborn as sns\n",
        "from urllib.request import Request, urlopen\n",
        "from sklearn.metrics import accuracy_score,confusion_matrix\n",
        "%matplotlib inline"
      ]
    },
    {
      "cell_type": "code",
      "execution_count": null,
      "metadata": {
        "colab": {
          "base_uri": "https://localhost:8080/",
          "height": 267
        },
        "id": "JQOys1Ffq2CK",
        "outputId": "e2dd2985-6e20-4831-d854-1bcb14e8da7b"
      },
      "outputs": [
        {
          "output_type": "execute_result",
          "data": {
            "text/plain": [
              "   Age Gender Polyuria Polydipsia sudden weight loss weakness Polyphagia  \\\n",
              "0   40   Male       No        Yes                 No      Yes         No   \n",
              "1   58   Male       No         No                 No      Yes         No   \n",
              "2   41   Male      Yes         No                 No      Yes        Yes   \n",
              "3   45   Male       No         No                Yes      Yes        Yes   \n",
              "4   60   Male      Yes        Yes                Yes      Yes        Yes   \n",
              "\n",
              "  Genital thrush visual blurring Itching Irritability delayed healing  \\\n",
              "0             No              No     Yes           No             Yes   \n",
              "1             No             Yes      No           No              No   \n",
              "2             No              No     Yes           No             Yes   \n",
              "3            Yes              No     Yes           No             Yes   \n",
              "4             No             Yes     Yes          Yes             Yes   \n",
              "\n",
              "  partial paresis muscle stiffness Alopecia Obesity     class  \n",
              "0              No              Yes      Yes     Yes  Positive  \n",
              "1             Yes               No      Yes      No  Positive  \n",
              "2              No              Yes      Yes      No  Positive  \n",
              "3              No               No       No      No  Positive  \n",
              "4             Yes              Yes      Yes     Yes  Positive  "
            ],
            "text/html": [
              "\n",
              "  <div id=\"df-2970dd57-aba7-4ba0-9719-cbf0137498a6\">\n",
              "    <div class=\"colab-df-container\">\n",
              "      <div>\n",
              "<style scoped>\n",
              "    .dataframe tbody tr th:only-of-type {\n",
              "        vertical-align: middle;\n",
              "    }\n",
              "\n",
              "    .dataframe tbody tr th {\n",
              "        vertical-align: top;\n",
              "    }\n",
              "\n",
              "    .dataframe thead th {\n",
              "        text-align: right;\n",
              "    }\n",
              "</style>\n",
              "<table border=\"1\" class=\"dataframe\">\n",
              "  <thead>\n",
              "    <tr style=\"text-align: right;\">\n",
              "      <th></th>\n",
              "      <th>Age</th>\n",
              "      <th>Gender</th>\n",
              "      <th>Polyuria</th>\n",
              "      <th>Polydipsia</th>\n",
              "      <th>sudden weight loss</th>\n",
              "      <th>weakness</th>\n",
              "      <th>Polyphagia</th>\n",
              "      <th>Genital thrush</th>\n",
              "      <th>visual blurring</th>\n",
              "      <th>Itching</th>\n",
              "      <th>Irritability</th>\n",
              "      <th>delayed healing</th>\n",
              "      <th>partial paresis</th>\n",
              "      <th>muscle stiffness</th>\n",
              "      <th>Alopecia</th>\n",
              "      <th>Obesity</th>\n",
              "      <th>class</th>\n",
              "    </tr>\n",
              "  </thead>\n",
              "  <tbody>\n",
              "    <tr>\n",
              "      <th>0</th>\n",
              "      <td>40</td>\n",
              "      <td>Male</td>\n",
              "      <td>No</td>\n",
              "      <td>Yes</td>\n",
              "      <td>No</td>\n",
              "      <td>Yes</td>\n",
              "      <td>No</td>\n",
              "      <td>No</td>\n",
              "      <td>No</td>\n",
              "      <td>Yes</td>\n",
              "      <td>No</td>\n",
              "      <td>Yes</td>\n",
              "      <td>No</td>\n",
              "      <td>Yes</td>\n",
              "      <td>Yes</td>\n",
              "      <td>Yes</td>\n",
              "      <td>Positive</td>\n",
              "    </tr>\n",
              "    <tr>\n",
              "      <th>1</th>\n",
              "      <td>58</td>\n",
              "      <td>Male</td>\n",
              "      <td>No</td>\n",
              "      <td>No</td>\n",
              "      <td>No</td>\n",
              "      <td>Yes</td>\n",
              "      <td>No</td>\n",
              "      <td>No</td>\n",
              "      <td>Yes</td>\n",
              "      <td>No</td>\n",
              "      <td>No</td>\n",
              "      <td>No</td>\n",
              "      <td>Yes</td>\n",
              "      <td>No</td>\n",
              "      <td>Yes</td>\n",
              "      <td>No</td>\n",
              "      <td>Positive</td>\n",
              "    </tr>\n",
              "    <tr>\n",
              "      <th>2</th>\n",
              "      <td>41</td>\n",
              "      <td>Male</td>\n",
              "      <td>Yes</td>\n",
              "      <td>No</td>\n",
              "      <td>No</td>\n",
              "      <td>Yes</td>\n",
              "      <td>Yes</td>\n",
              "      <td>No</td>\n",
              "      <td>No</td>\n",
              "      <td>Yes</td>\n",
              "      <td>No</td>\n",
              "      <td>Yes</td>\n",
              "      <td>No</td>\n",
              "      <td>Yes</td>\n",
              "      <td>Yes</td>\n",
              "      <td>No</td>\n",
              "      <td>Positive</td>\n",
              "    </tr>\n",
              "    <tr>\n",
              "      <th>3</th>\n",
              "      <td>45</td>\n",
              "      <td>Male</td>\n",
              "      <td>No</td>\n",
              "      <td>No</td>\n",
              "      <td>Yes</td>\n",
              "      <td>Yes</td>\n",
              "      <td>Yes</td>\n",
              "      <td>Yes</td>\n",
              "      <td>No</td>\n",
              "      <td>Yes</td>\n",
              "      <td>No</td>\n",
              "      <td>Yes</td>\n",
              "      <td>No</td>\n",
              "      <td>No</td>\n",
              "      <td>No</td>\n",
              "      <td>No</td>\n",
              "      <td>Positive</td>\n",
              "    </tr>\n",
              "    <tr>\n",
              "      <th>4</th>\n",
              "      <td>60</td>\n",
              "      <td>Male</td>\n",
              "      <td>Yes</td>\n",
              "      <td>Yes</td>\n",
              "      <td>Yes</td>\n",
              "      <td>Yes</td>\n",
              "      <td>Yes</td>\n",
              "      <td>No</td>\n",
              "      <td>Yes</td>\n",
              "      <td>Yes</td>\n",
              "      <td>Yes</td>\n",
              "      <td>Yes</td>\n",
              "      <td>Yes</td>\n",
              "      <td>Yes</td>\n",
              "      <td>Yes</td>\n",
              "      <td>Yes</td>\n",
              "      <td>Positive</td>\n",
              "    </tr>\n",
              "  </tbody>\n",
              "</table>\n",
              "</div>\n",
              "      <button class=\"colab-df-convert\" onclick=\"convertToInteractive('df-2970dd57-aba7-4ba0-9719-cbf0137498a6')\"\n",
              "              title=\"Convert this dataframe to an interactive table.\"\n",
              "              style=\"display:none;\">\n",
              "        \n",
              "  <svg xmlns=\"http://www.w3.org/2000/svg\" height=\"24px\"viewBox=\"0 0 24 24\"\n",
              "       width=\"24px\">\n",
              "    <path d=\"M0 0h24v24H0V0z\" fill=\"none\"/>\n",
              "    <path d=\"M18.56 5.44l.94 2.06.94-2.06 2.06-.94-2.06-.94-.94-2.06-.94 2.06-2.06.94zm-11 1L8.5 8.5l.94-2.06 2.06-.94-2.06-.94L8.5 2.5l-.94 2.06-2.06.94zm10 10l.94 2.06.94-2.06 2.06-.94-2.06-.94-.94-2.06-.94 2.06-2.06.94z\"/><path d=\"M17.41 7.96l-1.37-1.37c-.4-.4-.92-.59-1.43-.59-.52 0-1.04.2-1.43.59L10.3 9.45l-7.72 7.72c-.78.78-.78 2.05 0 2.83L4 21.41c.39.39.9.59 1.41.59.51 0 1.02-.2 1.41-.59l7.78-7.78 2.81-2.81c.8-.78.8-2.07 0-2.86zM5.41 20L4 18.59l7.72-7.72 1.47 1.35L5.41 20z\"/>\n",
              "  </svg>\n",
              "      </button>\n",
              "      \n",
              "  <style>\n",
              "    .colab-df-container {\n",
              "      display:flex;\n",
              "      flex-wrap:wrap;\n",
              "      gap: 12px;\n",
              "    }\n",
              "\n",
              "    .colab-df-convert {\n",
              "      background-color: #E8F0FE;\n",
              "      border: none;\n",
              "      border-radius: 50%;\n",
              "      cursor: pointer;\n",
              "      display: none;\n",
              "      fill: #1967D2;\n",
              "      height: 32px;\n",
              "      padding: 0 0 0 0;\n",
              "      width: 32px;\n",
              "    }\n",
              "\n",
              "    .colab-df-convert:hover {\n",
              "      background-color: #E2EBFA;\n",
              "      box-shadow: 0px 1px 2px rgba(60, 64, 67, 0.3), 0px 1px 3px 1px rgba(60, 64, 67, 0.15);\n",
              "      fill: #174EA6;\n",
              "    }\n",
              "\n",
              "    [theme=dark] .colab-df-convert {\n",
              "      background-color: #3B4455;\n",
              "      fill: #D2E3FC;\n",
              "    }\n",
              "\n",
              "    [theme=dark] .colab-df-convert:hover {\n",
              "      background-color: #434B5C;\n",
              "      box-shadow: 0px 1px 3px 1px rgba(0, 0, 0, 0.15);\n",
              "      filter: drop-shadow(0px 1px 2px rgba(0, 0, 0, 0.3));\n",
              "      fill: #FFFFFF;\n",
              "    }\n",
              "  </style>\n",
              "\n",
              "      <script>\n",
              "        const buttonEl =\n",
              "          document.querySelector('#df-2970dd57-aba7-4ba0-9719-cbf0137498a6 button.colab-df-convert');\n",
              "        buttonEl.style.display =\n",
              "          google.colab.kernel.accessAllowed ? 'block' : 'none';\n",
              "\n",
              "        async function convertToInteractive(key) {\n",
              "          const element = document.querySelector('#df-2970dd57-aba7-4ba0-9719-cbf0137498a6');\n",
              "          const dataTable =\n",
              "            await google.colab.kernel.invokeFunction('convertToInteractive',\n",
              "                                                     [key], {});\n",
              "          if (!dataTable) return;\n",
              "\n",
              "          const docLinkHtml = 'Like what you see? Visit the ' +\n",
              "            '<a target=\"_blank\" href=https://colab.research.google.com/notebooks/data_table.ipynb>data table notebook</a>'\n",
              "            + ' to learn more about interactive tables.';\n",
              "          element.innerHTML = '';\n",
              "          dataTable['output_type'] = 'display_data';\n",
              "          await google.colab.output.renderOutput(dataTable, element);\n",
              "          const docLink = document.createElement('div');\n",
              "          docLink.innerHTML = docLinkHtml;\n",
              "          element.appendChild(docLink);\n",
              "        }\n",
              "      </script>\n",
              "    </div>\n",
              "  </div>\n",
              "  "
            ]
          },
          "metadata": {},
          "execution_count": 243
        }
      ],
      "source": [
        "dataset = pd.read_csv(\"/content/diabetes_data_upload (3).csv\")\n",
        "dataset.head()"
      ]
    },
    {
      "cell_type": "code",
      "execution_count": null,
      "metadata": {
        "colab": {
          "base_uri": "https://localhost:8080/"
        },
        "id": "QsEbV6uwVoAP",
        "outputId": "3c6ef2c9-4a9e-4174-ba7a-03c7fa422155"
      },
      "outputs": [
        {
          "output_type": "stream",
          "name": "stdout",
          "text": [
            "<class 'pandas.core.frame.DataFrame'>\n",
            "RangeIndex: 520 entries, 0 to 519\n",
            "Data columns (total 17 columns):\n",
            " #   Column              Non-Null Count  Dtype \n",
            "---  ------              --------------  ----- \n",
            " 0   Age                 520 non-null    int64 \n",
            " 1   Gender              520 non-null    object\n",
            " 2   Polyuria            520 non-null    object\n",
            " 3   Polydipsia          520 non-null    object\n",
            " 4   sudden weight loss  520 non-null    object\n",
            " 5   weakness            520 non-null    object\n",
            " 6   Polyphagia          520 non-null    object\n",
            " 7   Genital thrush      520 non-null    object\n",
            " 8   visual blurring     520 non-null    object\n",
            " 9   Itching             520 non-null    object\n",
            " 10  Irritability        520 non-null    object\n",
            " 11  delayed healing     520 non-null    object\n",
            " 12  partial paresis     520 non-null    object\n",
            " 13  muscle stiffness    520 non-null    object\n",
            " 14  Alopecia            520 non-null    object\n",
            " 15  Obesity             520 non-null    object\n",
            " 16  class               520 non-null    object\n",
            "dtypes: int64(1), object(16)\n",
            "memory usage: 69.2+ KB\n"
          ]
        }
      ],
      "source": [
        "dataset.info()"
      ]
    },
    {
      "cell_type": "code",
      "execution_count": null,
      "metadata": {
        "colab": {
          "base_uri": "https://localhost:8080/",
          "height": 300
        },
        "id": "3U3AD6uwxmcV",
        "outputId": "7ffd051b-f86b-4eba-ddbe-9fd05bdc2ebd"
      },
      "outputs": [
        {
          "output_type": "execute_result",
          "data": {
            "text/plain": [
              "              Age\n",
              "count  520.000000\n",
              "mean    48.028846\n",
              "std     12.151466\n",
              "min     16.000000\n",
              "25%     39.000000\n",
              "50%     47.500000\n",
              "75%     57.000000\n",
              "max     90.000000"
            ],
            "text/html": [
              "\n",
              "  <div id=\"df-784b55a6-5ad6-45ab-8171-12ed2a984577\">\n",
              "    <div class=\"colab-df-container\">\n",
              "      <div>\n",
              "<style scoped>\n",
              "    .dataframe tbody tr th:only-of-type {\n",
              "        vertical-align: middle;\n",
              "    }\n",
              "\n",
              "    .dataframe tbody tr th {\n",
              "        vertical-align: top;\n",
              "    }\n",
              "\n",
              "    .dataframe thead th {\n",
              "        text-align: right;\n",
              "    }\n",
              "</style>\n",
              "<table border=\"1\" class=\"dataframe\">\n",
              "  <thead>\n",
              "    <tr style=\"text-align: right;\">\n",
              "      <th></th>\n",
              "      <th>Age</th>\n",
              "    </tr>\n",
              "  </thead>\n",
              "  <tbody>\n",
              "    <tr>\n",
              "      <th>count</th>\n",
              "      <td>520.000000</td>\n",
              "    </tr>\n",
              "    <tr>\n",
              "      <th>mean</th>\n",
              "      <td>48.028846</td>\n",
              "    </tr>\n",
              "    <tr>\n",
              "      <th>std</th>\n",
              "      <td>12.151466</td>\n",
              "    </tr>\n",
              "    <tr>\n",
              "      <th>min</th>\n",
              "      <td>16.000000</td>\n",
              "    </tr>\n",
              "    <tr>\n",
              "      <th>25%</th>\n",
              "      <td>39.000000</td>\n",
              "    </tr>\n",
              "    <tr>\n",
              "      <th>50%</th>\n",
              "      <td>47.500000</td>\n",
              "    </tr>\n",
              "    <tr>\n",
              "      <th>75%</th>\n",
              "      <td>57.000000</td>\n",
              "    </tr>\n",
              "    <tr>\n",
              "      <th>max</th>\n",
              "      <td>90.000000</td>\n",
              "    </tr>\n",
              "  </tbody>\n",
              "</table>\n",
              "</div>\n",
              "      <button class=\"colab-df-convert\" onclick=\"convertToInteractive('df-784b55a6-5ad6-45ab-8171-12ed2a984577')\"\n",
              "              title=\"Convert this dataframe to an interactive table.\"\n",
              "              style=\"display:none;\">\n",
              "        \n",
              "  <svg xmlns=\"http://www.w3.org/2000/svg\" height=\"24px\"viewBox=\"0 0 24 24\"\n",
              "       width=\"24px\">\n",
              "    <path d=\"M0 0h24v24H0V0z\" fill=\"none\"/>\n",
              "    <path d=\"M18.56 5.44l.94 2.06.94-2.06 2.06-.94-2.06-.94-.94-2.06-.94 2.06-2.06.94zm-11 1L8.5 8.5l.94-2.06 2.06-.94-2.06-.94L8.5 2.5l-.94 2.06-2.06.94zm10 10l.94 2.06.94-2.06 2.06-.94-2.06-.94-.94-2.06-.94 2.06-2.06.94z\"/><path d=\"M17.41 7.96l-1.37-1.37c-.4-.4-.92-.59-1.43-.59-.52 0-1.04.2-1.43.59L10.3 9.45l-7.72 7.72c-.78.78-.78 2.05 0 2.83L4 21.41c.39.39.9.59 1.41.59.51 0 1.02-.2 1.41-.59l7.78-7.78 2.81-2.81c.8-.78.8-2.07 0-2.86zM5.41 20L4 18.59l7.72-7.72 1.47 1.35L5.41 20z\"/>\n",
              "  </svg>\n",
              "      </button>\n",
              "      \n",
              "  <style>\n",
              "    .colab-df-container {\n",
              "      display:flex;\n",
              "      flex-wrap:wrap;\n",
              "      gap: 12px;\n",
              "    }\n",
              "\n",
              "    .colab-df-convert {\n",
              "      background-color: #E8F0FE;\n",
              "      border: none;\n",
              "      border-radius: 50%;\n",
              "      cursor: pointer;\n",
              "      display: none;\n",
              "      fill: #1967D2;\n",
              "      height: 32px;\n",
              "      padding: 0 0 0 0;\n",
              "      width: 32px;\n",
              "    }\n",
              "\n",
              "    .colab-df-convert:hover {\n",
              "      background-color: #E2EBFA;\n",
              "      box-shadow: 0px 1px 2px rgba(60, 64, 67, 0.3), 0px 1px 3px 1px rgba(60, 64, 67, 0.15);\n",
              "      fill: #174EA6;\n",
              "    }\n",
              "\n",
              "    [theme=dark] .colab-df-convert {\n",
              "      background-color: #3B4455;\n",
              "      fill: #D2E3FC;\n",
              "    }\n",
              "\n",
              "    [theme=dark] .colab-df-convert:hover {\n",
              "      background-color: #434B5C;\n",
              "      box-shadow: 0px 1px 3px 1px rgba(0, 0, 0, 0.15);\n",
              "      filter: drop-shadow(0px 1px 2px rgba(0, 0, 0, 0.3));\n",
              "      fill: #FFFFFF;\n",
              "    }\n",
              "  </style>\n",
              "\n",
              "      <script>\n",
              "        const buttonEl =\n",
              "          document.querySelector('#df-784b55a6-5ad6-45ab-8171-12ed2a984577 button.colab-df-convert');\n",
              "        buttonEl.style.display =\n",
              "          google.colab.kernel.accessAllowed ? 'block' : 'none';\n",
              "\n",
              "        async function convertToInteractive(key) {\n",
              "          const element = document.querySelector('#df-784b55a6-5ad6-45ab-8171-12ed2a984577');\n",
              "          const dataTable =\n",
              "            await google.colab.kernel.invokeFunction('convertToInteractive',\n",
              "                                                     [key], {});\n",
              "          if (!dataTable) return;\n",
              "\n",
              "          const docLinkHtml = 'Like what you see? Visit the ' +\n",
              "            '<a target=\"_blank\" href=https://colab.research.google.com/notebooks/data_table.ipynb>data table notebook</a>'\n",
              "            + ' to learn more about interactive tables.';\n",
              "          element.innerHTML = '';\n",
              "          dataTable['output_type'] = 'display_data';\n",
              "          await google.colab.output.renderOutput(dataTable, element);\n",
              "          const docLink = document.createElement('div');\n",
              "          docLink.innerHTML = docLinkHtml;\n",
              "          element.appendChild(docLink);\n",
              "        }\n",
              "      </script>\n",
              "    </div>\n",
              "  </div>\n",
              "  "
            ]
          },
          "metadata": {},
          "execution_count": 245
        }
      ],
      "source": [
        "dataset.describe()"
      ]
    },
    {
      "cell_type": "markdown",
      "metadata": {
        "id": "we_CRYPpdhdh"
      },
      "source": [
        "##Checking the missing values"
      ]
    },
    {
      "cell_type": "code",
      "execution_count": null,
      "metadata": {
        "colab": {
          "base_uri": "https://localhost:8080/",
          "height": 374
        },
        "id": "JKHPSRpqq2ED",
        "outputId": "f816058b-bf5c-4173-c67e-ad6973409b5b"
      },
      "outputs": [
        {
          "output_type": "execute_result",
          "data": {
            "text/plain": [
              "<matplotlib.axes._subplots.AxesSubplot at 0x7fe683dcc5d0>"
            ]
          },
          "metadata": {},
          "execution_count": 246
        },
        {
          "output_type": "display_data",
          "data": {
            "text/plain": [
              "<Figure size 432x288 with 2 Axes>"
            ],
            "image/png": "[encoded data removed]"
          },
          "metadata": {
            "needs_background": "light"
          }
        }
      ],
      "source": [
        "  sns.heatmap(dataset.isnull())"
      ]
    },
    {
      "cell_type": "code",
      "execution_count": null,
      "metadata": {
        "colab": {
          "base_uri": "https://localhost:8080/"
        },
        "id": "MFOTNJpLq2HV",
        "outputId": "b4b63811-6d7e-42b7-ce59-d7556d597217"
      },
      "outputs": [
        {
          "output_type": "execute_result",
          "data": {
            "text/plain": [
              "Positive    320\n",
              "Negative    200\n",
              "Name: class, dtype: int64"
            ]
          },
          "metadata": {},
          "execution_count": 247
        }
      ],
      "source": [
        "dataset['class'].value_counts()"
      ]
    },
    {
      "cell_type": "code",
      "execution_count": null,
      "metadata": {
        "id": "XHqPcm4Hq2JU"
      },
      "outputs": [],
      "source": [
        "dataset['Gender'] = dataset['Gender'].map({'Male':1,'Female':0})\n",
        "dataset['class'] = dataset['class'].map({'Positive':1,'Negative':0})\n",
        "dataset['Polyuria'] = dataset['Polyuria'].map({'Yes':1,'No':0})\n",
        "dataset['Polydipsia'] = dataset['Polydipsia'].map({'Yes':1,'No':0})\n",
        "dataset['sudden weight loss'] = dataset['sudden weight loss'].map({'Yes':1,'No':0})\n",
        "dataset['weakness'] = dataset['weakness'].map({'Yes':1,'No':0})\n",
        "dataset['Polyphagia'] = dataset['Polyphagia'].map({'Yes':1,'No':0})\n",
        "dataset['Genital thrush'] = dataset['Genital thrush'].map({'Yes':1,'No':0})\n",
        "dataset['visual blurring'] = dataset['visual blurring'].map({'Yes':1,'No':0})\n",
        "dataset['Itching'] = dataset['Itching'].map({'Yes':1,'No':0})\n",
        "dataset['Irritability'] = dataset['Irritability'].map({'Yes':1,'No':0})\n",
        "dataset['delayed healing'] = dataset['delayed healing'].map({'Yes':1,'No':0})\n",
        "dataset['partial paresis'] = dataset['partial paresis'].map({'Yes':1,'No':0})\n",
        "dataset['muscle stiffness'] = dataset['muscle stiffness'].map({'Yes':1,'No':0})\n",
        "dataset['Alopecia'] = dataset['Alopecia'].map({'Yes':1,'No':0})\n",
        "dataset['Obesity'] = dataset['Obesity'].map({'Yes':1,'No':0})"
      ]
    },
    {
      "cell_type": "markdown",
      "metadata": {
        "id": "kIElhsa6d8sT"
      },
      "source": [
        "#Exploratory Data Analysis"
      ]
    },
    {
      "cell_type": "code",
      "execution_count": null,
      "metadata": {
        "id": "YoBQNIK1q2Mq"
      },
      "outputs": [],
      "source": [
        "corrdata = dataset.corr()"
      ]
    },
    {
      "cell_type": "code",
      "execution_count": null,
      "metadata": {
        "colab": {
          "base_uri": "https://localhost:8080/",
          "height": 590
        },
        "id": "1fpRJj8Bq2Om",
        "outputId": "807287f3-2500-43dc-904d-ab6c495f40e9"
      },
      "outputs": [
        {
          "output_type": "execute_result",
          "data": {
            "text/plain": [
              "<matplotlib.axes._subplots.AxesSubplot at 0x7fe684fe73d0>"
            ]
          },
          "metadata": {},
          "execution_count": 250
        },
        {
          "output_type": "display_data",
          "data": {
            "text/plain": [
              "<Figure size 1080x576 with 2 Axes>"
            ],
            "image/png": "[encoded data removed]"
          },
          "metadata": {
            "needs_background": "light"
          }
        }
      ],
      "source": [
        "ax,fig = plt.subplots(figsize=(15,8))\n",
        "sns.heatmap(corrdata,annot=True)"
      ]
    },
    {
      "cell_type": "code",
      "execution_count": null,
      "metadata": {
        "colab": {
          "base_uri": "https://localhost:8080/",
          "height": 351
        },
        "id": "7EkHZVrxq2Rb",
        "outputId": "f7914405-e875-44da-e176-d634e077c540"
      },
      "outputs": [
        {
          "output_type": "stream",
          "name": "stderr",
          "text": [
            "/usr/local/lib/python3.7/dist-packages/seaborn/distributions.py:2619: FutureWarning: `distplot` is a deprecated function and will be removed in a future version. Please adapt your code to use either `displot` (a figure-level function with similar flexibility) or `histplot` (an axes-level function for histograms).\n",
            "  warnings.warn(msg, FutureWarning)\n"
          ]
        },
        {
          "output_type": "execute_result",
          "data": {
            "text/plain": [
              "<matplotlib.axes._subplots.AxesSubplot at 0x7fe683807bd0>"
            ]
          },
          "metadata": {},
          "execution_count": 251
        },
        {
          "output_type": "display_data",
          "data": {
            "text/plain": [
              "<Figure size 432x288 with 1 Axes>"
            ],
            "image/png": "[encoded data removed]"
          },
          "metadata": {
            "needs_background": "light"
          }
        }
      ],
      "source": [
        "sns.distplot(dataset['Age'],bins=30)"
      ]
    },
    {
      "cell_type": "code",
      "execution_count": null,
      "metadata": {
        "colab": {
          "base_uri": "https://localhost:8080/",
          "height": 296
        },
        "id": "wkZvsSJSq2T0",
        "outputId": "312fb460-382b-489c-9bdc-7f481e8d0edf"
      },
      "outputs": [
        {
          "output_type": "execute_result",
          "data": {
            "text/plain": [
              "<matplotlib.axes._subplots.AxesSubplot at 0x7fe683ac69d0>"
            ]
          },
          "metadata": {},
          "execution_count": 252
        },
        {
          "output_type": "display_data",
          "data": {
            "text/plain": [
              "<Figure size 432x288 with 1 Axes>"
            ],
            "image/png": "[encoded data removed]"
          },
          "metadata": {
            "needs_background": "light"
          }
        }
      ],
      "source": [
        "sns.barplot(x='class',y='Age',data=dataset)"
      ]
    },
    {
      "cell_type": "code",
      "execution_count": null,
      "metadata": {
        "colab": {
          "base_uri": "https://localhost:8080/",
          "height": 248
        },
        "id": "Y88uQ-o0q2V3",
        "outputId": "28b30374-1edc-4109-dfbe-54b3875e0681"
      },
      "outputs": [
        {
          "output_type": "display_data",
          "data": {
            "text/plain": [
              "<Figure size 432x288 with 1 Axes>"
            ],
            "image/png": "[encoded data removed]"
          },
          "metadata": {}
        }
      ],
      "source": [
        "ds = dataset['class'].value_counts().reset_index()\n",
        "ds.columns = ['class', 'count']\n",
        "plot=ds.plot.pie(y='count')"
      ]
    },
    {
      "cell_type": "code",
      "execution_count": null,
      "metadata": {
        "colab": {
          "base_uri": "https://localhost:8080/",
          "height": 296
        },
        "id": "bRHq9kxeq2Ys",
        "outputId": "dac06189-5d3d-4221-e1a2-2db64e18cece"
      },
      "outputs": [
        {
          "output_type": "execute_result",
          "data": {
            "text/plain": [
              "<matplotlib.axes._subplots.AxesSubplot at 0x7fe68375ce90>"
            ]
          },
          "metadata": {},
          "execution_count": 254
        },
        {
          "output_type": "display_data",
          "data": {
            "text/plain": [
              "<Figure size 432x288 with 1 Axes>"
            ],
            "image/png": "[encoded data removed]"
          },
          "metadata": {
            "needs_background": "light"
          }
        }
      ],
      "source": [
        "sns.countplot(x='class',data=dataset,hue='Gender')"
      ]
    },
    {
      "cell_type": "code",
      "execution_count": null,
      "metadata": {
        "colab": {
          "base_uri": "https://localhost:8080/",
          "height": 351
        },
        "id": "z6fKlADkjWKd",
        "outputId": "07601b68-671c-4a85-99d2-d66a4892c66d"
      },
      "outputs": [
        {
          "output_type": "stream",
          "name": "stderr",
          "text": [
            "/usr/local/lib/python3.7/dist-packages/seaborn/_decorators.py:43: FutureWarning: Pass the following variable as a keyword arg: x. From version 0.12, the only valid positional argument will be `data`, and passing other arguments without an explicit keyword will result in an error or misinterpretation.\n",
            "  FutureWarning\n"
          ]
        },
        {
          "output_type": "execute_result",
          "data": {
            "text/plain": [
              "<matplotlib.axes._subplots.AxesSubplot at 0x7fe68373d1d0>"
            ]
          },
          "metadata": {},
          "execution_count": 255
        },
        {
          "output_type": "display_data",
          "data": {
            "text/plain": [
              "<Figure size 432x288 with 1 Axes>"
            ],
            "image/png": "[encoded data removed]"
          },
          "metadata": {
            "needs_background": "light"
          }
        }
      ],
      "source": [
        "sns.countplot(dataset['Gender'],hue=dataset['class'], data=dataset)"
      ]
    },
    {
      "cell_type": "code",
      "execution_count": null,
      "metadata": {
        "colab": {
          "base_uri": "https://localhost:8080/",
          "height": 143
        },
        "id": "HQm4TVMpi_yk",
        "outputId": "d8610346-2c71-42a0-f518-aa80090477e4"
      },
      "outputs": [
        {
          "output_type": "execute_result",
          "data": {
            "text/plain": [
              "<pandas.io.formats.style.Styler at 0x7fe68368add0>"
            ],
            "text/html": [
              "<style type=\"text/css\">\n",
              "#T_8f6dc_row0_col0, #T_8f6dc_row1_col1 {\n",
              "  background-color: #f3f0f0;\n",
              "  color: #000000;\n",
              "}\n",
              "#T_8f6dc_row0_col1, #T_8f6dc_row1_col0 {\n",
              "  background-color: #ff0000;\n",
              "  color: #f1f1f1;\n",
              "}\n",
              "</style>\n",
              "<table id=\"T_8f6dc_\" class=\"dataframe\">\n",
              "  <thead>\n",
              "    <tr>\n",
              "      <th class=\"index_name level0\" >class</th>\n",
              "      <th class=\"col_heading level0 col0\" >0</th>\n",
              "      <th class=\"col_heading level0 col1\" >1</th>\n",
              "    </tr>\n",
              "    <tr>\n",
              "      <th class=\"index_name level0\" >Gender</th>\n",
              "      <th class=\"blank col0\" >&nbsp;</th>\n",
              "      <th class=\"blank col1\" >&nbsp;</th>\n",
              "    </tr>\n",
              "  </thead>\n",
              "  <tbody>\n",
              "    <tr>\n",
              "      <th id=\"T_8f6dc_level0_row0\" class=\"row_heading level0 row0\" >0</th>\n",
              "      <td id=\"T_8f6dc_row0_col0\" class=\"data row0 col0\" >9.500000</td>\n",
              "      <td id=\"T_8f6dc_row0_col1\" class=\"data row0 col1\" >54.060000</td>\n",
              "    </tr>\n",
              "    <tr>\n",
              "      <th id=\"T_8f6dc_level0_row1\" class=\"row_heading level0 row1\" >1</th>\n",
              "      <td id=\"T_8f6dc_row1_col0\" class=\"data row1 col0\" >90.500000</td>\n",
              "      <td id=\"T_8f6dc_row1_col1\" class=\"data row1 col1\" >45.940000</td>\n",
              "    </tr>\n",
              "  </tbody>\n",
              "</table>\n"
            ]
          },
          "metadata": {},
          "execution_count": 256
        }
      ],
      "source": [
        "plot_criteria= ['Gender', 'class']\n",
        "cm = sns.light_palette(\"red\", as_cmap=True)\n",
        "(round(pd.crosstab(dataset[plot_criteria[0]],dataset[plot_criteria[1]], normalize='columns') * 100,2)).style.background_gradient(cmap = cm)"
      ]
    },
    {
      "cell_type": "code",
      "execution_count": null,
      "metadata": {
        "colab": {
          "base_uri": "https://localhost:8080/",
          "height": 296
        },
        "id": "2UvrRGN4stnv",
        "outputId": "219240fb-67d1-4c72-8cdc-4811a222370b"
      },
      "outputs": [
        {
          "output_type": "execute_result",
          "data": {
            "text/plain": [
              "<matplotlib.axes._subplots.AxesSubplot at 0x7fe6836779d0>"
            ]
          },
          "metadata": {},
          "execution_count": 257
        },
        {
          "output_type": "display_data",
          "data": {
            "text/plain": [
              "<Figure size 432x288 with 1 Axes>"
            ],
            "image/png": "[encoded data removed]"
          },
          "metadata": {
            "needs_background": "light"
          }
        }
      ],
      "source": [
        "sns.barplot(x='Polydipsia',y='class',data=dataset)"
      ]
    },
    {
      "cell_type": "code",
      "execution_count": null,
      "metadata": {
        "colab": {
          "base_uri": "https://localhost:8080/",
          "height": 143
        },
        "id": "L_9XHpD_kmHH",
        "outputId": "db2ebe93-5753-43e1-89b0-0afc8f6436f0"
      },
      "outputs": [
        {
          "output_type": "execute_result",
          "data": {
            "text/plain": [
              "<pandas.io.formats.style.Styler at 0x7fe68368a2d0>"
            ],
            "text/html": [
              "<style type=\"text/css\">\n",
              "#T_9bff7_row0_col0, #T_9bff7_row1_col1 {\n",
              "  background-color: #ff0000;\n",
              "  color: #f1f1f1;\n",
              "}\n",
              "#T_9bff7_row0_col1, #T_9bff7_row1_col0 {\n",
              "  background-color: #f3f0f0;\n",
              "  color: #000000;\n",
              "}\n",
              "</style>\n",
              "<table id=\"T_9bff7_\" class=\"dataframe\">\n",
              "  <thead>\n",
              "    <tr>\n",
              "      <th class=\"index_name level0\" >class</th>\n",
              "      <th class=\"col_heading level0 col0\" >0</th>\n",
              "      <th class=\"col_heading level0 col1\" >1</th>\n",
              "    </tr>\n",
              "    <tr>\n",
              "      <th class=\"index_name level0\" >Polydipsia</th>\n",
              "      <th class=\"blank col0\" >&nbsp;</th>\n",
              "      <th class=\"blank col1\" >&nbsp;</th>\n",
              "    </tr>\n",
              "  </thead>\n",
              "  <tbody>\n",
              "    <tr>\n",
              "      <th id=\"T_9bff7_level0_row0\" class=\"row_heading level0 row0\" >0</th>\n",
              "      <td id=\"T_9bff7_row0_col0\" class=\"data row0 col0\" >96.000000</td>\n",
              "      <td id=\"T_9bff7_row0_col1\" class=\"data row0 col1\" >29.690000</td>\n",
              "    </tr>\n",
              "    <tr>\n",
              "      <th id=\"T_9bff7_level0_row1\" class=\"row_heading level0 row1\" >1</th>\n",
              "      <td id=\"T_9bff7_row1_col0\" class=\"data row1 col0\" >4.000000</td>\n",
              "      <td id=\"T_9bff7_row1_col1\" class=\"data row1 col1\" >70.310000</td>\n",
              "    </tr>\n",
              "  </tbody>\n",
              "</table>\n"
            ]
          },
          "metadata": {},
          "execution_count": 258
        }
      ],
      "source": [
        "plot_criteria= ['Polydipsia', 'class']\n",
        "cm = sns.light_palette(\"red\", as_cmap=True)\n",
        "(round(pd.crosstab(dataset[plot_criteria[0]], dataset[plot_criteria[1]], normalize='columns') * 100,2)).style.background_gradient(cmap = cm)"
      ]
    },
    {
      "cell_type": "code",
      "execution_count": null,
      "metadata": {
        "colab": {
          "base_uri": "https://localhost:8080/",
          "height": 296
        },
        "id": "GXdM1oK_szlf",
        "outputId": "402706f3-cb21-418c-bef1-8109eaedc8a6"
      },
      "outputs": [
        {
          "output_type": "execute_result",
          "data": {
            "text/plain": [
              "<matplotlib.axes._subplots.AxesSubplot at 0x7fe683577290>"
            ]
          },
          "metadata": {},
          "execution_count": 259
        },
        {
          "output_type": "display_data",
          "data": {
            "text/plain": [
              "<Figure size 432x288 with 1 Axes>"
            ],
            "image/png": "[encoded data removed]"
          },
          "metadata": {
            "needs_background": "light"
          }
        }
      ],
      "source": [
        "sns.countplot(x='class',data=dataset,hue='sudden weight loss')"
      ]
    },
    {
      "cell_type": "code",
      "execution_count": null,
      "metadata": {
        "colab": {
          "base_uri": "https://localhost:8080/",
          "height": 143
        },
        "id": "SnyT6iJKkygk",
        "outputId": "6bd33a3e-0a61-45ca-8475-6f86731d99e6"
      },
      "outputs": [
        {
          "output_type": "execute_result",
          "data": {
            "text/plain": [
              "<pandas.io.formats.style.Styler at 0x7fe6835acf90>"
            ],
            "text/html": [
              "<style type=\"text/css\">\n",
              "#T_cc2af_row0_col0, #T_cc2af_row1_col1 {\n",
              "  background-color: #ff0000;\n",
              "  color: #f1f1f1;\n",
              "}\n",
              "#T_cc2af_row0_col1, #T_cc2af_row1_col0 {\n",
              "  background-color: #f3f0f0;\n",
              "  color: #000000;\n",
              "}\n",
              "</style>\n",
              "<table id=\"T_cc2af_\" class=\"dataframe\">\n",
              "  <thead>\n",
              "    <tr>\n",
              "      <th class=\"index_name level0\" >class</th>\n",
              "      <th class=\"col_heading level0 col0\" >0</th>\n",
              "      <th class=\"col_heading level0 col1\" >1</th>\n",
              "    </tr>\n",
              "    <tr>\n",
              "      <th class=\"index_name level0\" >sudden weight loss</th>\n",
              "      <th class=\"blank col0\" >&nbsp;</th>\n",
              "      <th class=\"blank col1\" >&nbsp;</th>\n",
              "    </tr>\n",
              "  </thead>\n",
              "  <tbody>\n",
              "    <tr>\n",
              "      <th id=\"T_cc2af_level0_row0\" class=\"row_heading level0 row0\" >0</th>\n",
              "      <td id=\"T_cc2af_row0_col0\" class=\"data row0 col0\" >85.500000</td>\n",
              "      <td id=\"T_cc2af_row0_col1\" class=\"data row0 col1\" >41.250000</td>\n",
              "    </tr>\n",
              "    <tr>\n",
              "      <th id=\"T_cc2af_level0_row1\" class=\"row_heading level0 row1\" >1</th>\n",
              "      <td id=\"T_cc2af_row1_col0\" class=\"data row1 col0\" >14.500000</td>\n",
              "      <td id=\"T_cc2af_row1_col1\" class=\"data row1 col1\" >58.750000</td>\n",
              "    </tr>\n",
              "  </tbody>\n",
              "</table>\n"
            ]
          },
          "metadata": {},
          "execution_count": 260
        }
      ],
      "source": [
        "plot_criteria= ['sudden weight loss', 'class']\n",
        "cm = sns.light_palette(\"red\", as_cmap=True)\n",
        "(round(pd.crosstab(dataset[plot_criteria[0]], dataset[plot_criteria[1]], normalize='columns') * 100,2)).style.background_gradient(cmap = cm)"
      ]
    },
    {
      "cell_type": "code",
      "execution_count": null,
      "metadata": {
        "colab": {
          "base_uri": "https://localhost:8080/",
          "height": 296
        },
        "id": "ovK0z8PgsznU",
        "outputId": "4a75469d-9a5d-4124-8c5d-2ee30fc45c87"
      },
      "outputs": [
        {
          "output_type": "execute_result",
          "data": {
            "text/plain": [
              "<matplotlib.axes._subplots.AxesSubplot at 0x7fe6834f75d0>"
            ]
          },
          "metadata": {},
          "execution_count": 261
        },
        {
          "output_type": "display_data",
          "data": {
            "text/plain": [
              "<Figure size 432x288 with 1 Axes>"
            ],
            "image/png": "[encoded data removed]"
          },
          "metadata": {
            "needs_background": "light"
          }
        }
      ],
      "source": [
        "sns.countplot(x='class',data=dataset, hue='Polyphagia')"
      ]
    },
    {
      "cell_type": "code",
      "execution_count": null,
      "metadata": {
        "colab": {
          "base_uri": "https://localhost:8080/",
          "height": 296
        },
        "id": "bIrx6kRfszqc",
        "outputId": "3a27783a-c6f6-4be4-9a1d-64c98e23688a"
      },
      "outputs": [
        {
          "output_type": "execute_result",
          "data": {
            "text/plain": [
              "<matplotlib.axes._subplots.AxesSubplot at 0x7fe683577610>"
            ]
          },
          "metadata": {},
          "execution_count": 262
        },
        {
          "output_type": "display_data",
          "data": {
            "text/plain": [
              "<Figure size 432x288 with 1 Axes>"
            ],
            "image/png": "[encoded data removed]"
          },
          "metadata": {
            "needs_background": "light"
          }
        }
      ],
      "source": [
        "sns.barplot(x='Polyphagia',y='class',data=dataset)"
      ]
    },
    {
      "cell_type": "code",
      "execution_count": null,
      "metadata": {
        "colab": {
          "base_uri": "https://localhost:8080/",
          "height": 386
        },
        "id": "MhW4OxYeszsl",
        "outputId": "fac5148b-ca0f-4727-be22-310763a8222e"
      },
      "outputs": [
        {
          "output_type": "execute_result",
          "data": {
            "text/plain": [
              "<seaborn.axisgrid.FacetGrid at 0x7fe6834acb90>"
            ]
          },
          "metadata": {},
          "execution_count": 263
        },
        {
          "output_type": "display_data",
          "data": {
            "text/plain": [
              "<Figure size 360x360 with 1 Axes>"
            ],
            "image/png": "[encoded data removed]"
          },
          "metadata": {
            "needs_background": "light"
          }
        }
      ],
      "source": [
        "sns.catplot(x='class',y='Genital thrush',kind='point',data=dataset)"
      ]
    },
    {
      "cell_type": "code",
      "execution_count": null,
      "metadata": {
        "colab": {
          "base_uri": "https://localhost:8080/",
          "height": 296
        },
        "id": "XMTDwgr6szvy",
        "outputId": "cb5abfae-22ec-4c81-9eed-f9008afb610b"
      },
      "outputs": [
        {
          "output_type": "execute_result",
          "data": {
            "text/plain": [
              "<matplotlib.axes._subplots.AxesSubplot at 0x7fe683440050>"
            ]
          },
          "metadata": {},
          "execution_count": 264
        },
        {
          "output_type": "display_data",
          "data": {
            "text/plain": [
              "<Figure size 432x288 with 1 Axes>"
            ],
            "image/png": "[encoded data removed]"
          },
          "metadata": {
            "needs_background": "light"
          }
        }
      ],
      "source": [
        "sns.barplot(x='class',y='partial paresis',data=dataset)"
      ]
    },
    {
      "cell_type": "code",
      "execution_count": null,
      "metadata": {
        "colab": {
          "base_uri": "https://localhost:8080/",
          "height": 296
        },
        "id": "sYilW432szyr",
        "outputId": "f036c9c6-4c2a-4b91-a0c1-5c0d33c0df8f"
      },
      "outputs": [
        {
          "output_type": "execute_result",
          "data": {
            "text/plain": [
              "<matplotlib.axes._subplots.AxesSubplot at 0x7fe683577cd0>"
            ]
          },
          "metadata": {},
          "execution_count": 265
        },
        {
          "output_type": "display_data",
          "data": {
            "text/plain": [
              "<Figure size 432x288 with 1 Axes>"
            ],
            "image/png": "[encoded data removed]"
          },
          "metadata": {
            "needs_background": "light"
          }
        }
      ],
      "source": [
        "sns.violinplot(x='Alopecia',y='class',data=dataset)"
      ]
    },
    {
      "cell_type": "code",
      "execution_count": null,
      "metadata": {
        "colab": {
          "base_uri": "https://localhost:8080/",
          "height": 296
        },
        "id": "VCJP_-hytoN5",
        "outputId": "82ecade2-4304-4ab1-edc9-cc9efe3c0b07"
      },
      "outputs": [
        {
          "output_type": "execute_result",
          "data": {
            "text/plain": [
              "<matplotlib.axes._subplots.AxesSubplot at 0x7fe68340b3d0>"
            ]
          },
          "metadata": {},
          "execution_count": 266
        },
        {
          "output_type": "display_data",
          "data": {
            "text/plain": [
              "<Figure size 432x288 with 1 Axes>"
            ],
            "image/png": "[encoded data removed]"
          },
          "metadata": {
            "needs_background": "light"
          }
        }
      ],
      "source": [
        "sns.barplot(x=\"visual blurring\", y=\"class\", data=dataset)"
      ]
    },
    {
      "cell_type": "code",
      "execution_count": null,
      "metadata": {
        "colab": {
          "base_uri": "https://localhost:8080/",
          "height": 298
        },
        "id": "FkpVZK53toP2",
        "outputId": "228b4c95-3778-4abd-a2f9-9041c4425823"
      },
      "outputs": [
        {
          "output_type": "execute_result",
          "data": {
            "text/plain": [
              "<matplotlib.axes._subplots.AxesSubplot at 0x7fe683318d50>"
            ]
          },
          "metadata": {},
          "execution_count": 267
        },
        {
          "output_type": "display_data",
          "data": {
            "text/plain": [
              "<Figure size 432x288 with 1 Axes>"
            ],
            "image/png": "[encoded data removed]"
          },
          "metadata": {
            "needs_background": "light"
          }
        }
      ],
      "source": [
        "sns.barplot(x=\"Itching\", y=\"class\", data=dataset)"
      ]
    },
    {
      "cell_type": "code",
      "execution_count": null,
      "metadata": {
        "colab": {
          "base_uri": "https://localhost:8080/",
          "height": 296
        },
        "id": "uTuLdzX9toSt",
        "outputId": "b972607c-0c19-4900-b07e-3d212dc5e67a"
      },
      "outputs": [
        {
          "output_type": "execute_result",
          "data": {
            "text/plain": [
              "<matplotlib.axes._subplots.AxesSubplot at 0x7fe6832546d0>"
            ]
          },
          "metadata": {},
          "execution_count": 268
        },
        {
          "output_type": "display_data",
          "data": {
            "text/plain": [
              "<Figure size 432x288 with 1 Axes>"
            ],
            "image/png": "[encoded data removed]"
          },
          "metadata": {
            "needs_background": "light"
          }
        }
      ],
      "source": [
        "sns.violinplot(x='Obesity',y='class',data=dataset)"
      ]
    },
    {
      "cell_type": "code",
      "execution_count": null,
      "metadata": {
        "colab": {
          "base_uri": "https://localhost:8080/",
          "height": 296
        },
        "id": "-QoVWyaBtoUi",
        "outputId": "9a7a24ad-8fbd-4bf3-cf01-2f758c4e9b8a"
      },
      "outputs": [
        {
          "output_type": "execute_result",
          "data": {
            "text/plain": [
              "<matplotlib.axes._subplots.AxesSubplot at 0x7fe683254f90>"
            ]
          },
          "metadata": {},
          "execution_count": 269
        },
        {
          "output_type": "display_data",
          "data": {
            "text/plain": [
              "<Figure size 432x288 with 1 Axes>"
            ],
            "image/png": "[encoded data removed]"
          },
          "metadata": {
            "needs_background": "light"
          }
        }
      ],
      "source": [
        "sns.barplot(x='Irritability',y='class',data=dataset)"
      ]
    },
    {
      "cell_type": "code",
      "execution_count": null,
      "metadata": {
        "id": "HqQKQ4CrtoXF"
      },
      "outputs": [],
      "source": [
        "X1 = dataset.iloc[:,0:-1]\n",
        "y1 = dataset.iloc[:,-1]"
      ]
    },
    {
      "cell_type": "code",
      "execution_count": null,
      "metadata": {
        "colab": {
          "base_uri": "https://localhost:8080/"
        },
        "id": "IuTDRKvqtoaY",
        "outputId": "de841a82-83f6-49e0-8a0f-a432aa662c32"
      },
      "outputs": [
        {
          "output_type": "execute_result",
          "data": {
            "text/plain": [
              "Index(['Age', 'Gender', 'Polyuria', 'Polydipsia', 'sudden weight loss',\n",
              "       'weakness', 'Polyphagia', 'Genital thrush', 'visual blurring',\n",
              "       'Itching', 'Irritability', 'delayed healing', 'partial paresis',\n",
              "       'muscle stiffness', 'Alopecia', 'Obesity'],\n",
              "      dtype='object')"
            ]
          },
          "metadata": {},
          "execution_count": 271
        }
      ],
      "source": [
        "X1.columns"
      ]
    },
    {
      "cell_type": "code",
      "execution_count": null,
      "metadata": {
        "colab": {
          "base_uri": "https://localhost:8080/",
          "height": 734
        },
        "id": "6HYDUXswQVHs",
        "outputId": "bb927be6-918a-4510-a5b2-27979ea03252"
      },
      "outputs": [
        {
          "output_type": "execute_result",
          "data": {
            "text/plain": [
              "                         Age    Gender  Polyuria  Polydipsia  \\\n",
              "Age                 1.000000  0.062872  0.199781    0.137382   \n",
              "Gender              0.062872  1.000000 -0.268894   -0.312262   \n",
              "Polyuria            0.199781 -0.268894  1.000000    0.598609   \n",
              "Polydipsia          0.137382 -0.312262  0.598609    1.000000   \n",
              "sudden weight loss  0.064808 -0.281840  0.447207    0.405965   \n",
              "weakness            0.224596 -0.124490  0.263000    0.332453   \n",
              "Polyphagia          0.315577 -0.219968  0.373873    0.316839   \n",
              "Genital thrush      0.096519  0.208961  0.087273    0.028081   \n",
              "visual blurring     0.402729 -0.208092  0.235095    0.331250   \n",
              "Itching             0.296559 -0.052496  0.088289    0.128716   \n",
              "Irritability        0.201625 -0.013735  0.237740    0.203446   \n",
              "delayed healing     0.257501 -0.101978  0.149873    0.115691   \n",
              "partial paresis     0.232742 -0.332288  0.441664    0.442249   \n",
              "muscle stiffness    0.307703 -0.090542  0.152938    0.180723   \n",
              "Alopecia            0.321691  0.327871 -0.144192   -0.310964   \n",
              "Obesity             0.140458 -0.005396  0.126567    0.098691   \n",
              "\n",
              "                    sudden weight loss  weakness  Polyphagia  Genital thrush  \\\n",
              "Age                           0.064808  0.224596    0.315577        0.096519   \n",
              "Gender                       -0.281840 -0.124490   -0.219968        0.208961   \n",
              "Polyuria                      0.447207  0.263000    0.373873        0.087273   \n",
              "Polydipsia                    0.405965  0.332453    0.316839        0.028081   \n",
              "sudden weight loss            1.000000  0.282884    0.243511        0.089858   \n",
              "weakness                      0.282884  1.000000    0.180266        0.027780   \n",
              "Polyphagia                    0.243511  0.180266    1.000000       -0.063712   \n",
              "Genital thrush                0.089858  0.027780   -0.063712        1.000000   \n",
              "visual blurring               0.068754  0.301043    0.293545       -0.148408   \n",
              "Itching                      -0.004516  0.309440    0.144390        0.125336   \n",
              "Irritability                  0.140340  0.146698    0.239466        0.160551   \n",
              "delayed healing               0.088140  0.335507    0.263980        0.136111   \n",
              "partial paresis               0.264014  0.272982    0.373569       -0.195612   \n",
              "muscle stiffness              0.109756  0.263164    0.320031       -0.100188   \n",
              "Alopecia                     -0.202727  0.090490   -0.053498        0.204847   \n",
              "Obesity                       0.169294  0.045665    0.029785        0.053828   \n",
              "\n",
              "                    visual blurring   Itching  Irritability  delayed healing  \\\n",
              "Age                        0.402729  0.296559      0.201625         0.257501   \n",
              "Gender                    -0.208092 -0.052496     -0.013735        -0.101978   \n",
              "Polyuria                   0.235095  0.088289      0.237740         0.149873   \n",
              "Polydipsia                 0.331250  0.128716      0.203446         0.115691   \n",
              "sudden weight loss         0.068754 -0.004516      0.140340         0.088140   \n",
              "weakness                   0.301043  0.309440      0.146698         0.335507   \n",
              "Polyphagia                 0.293545  0.144390      0.239466         0.263980   \n",
              "Genital thrush            -0.148408  0.125336      0.160551         0.136111   \n",
              "visual blurring            1.000000  0.291191      0.077095         0.177767   \n",
              "Itching                    0.291191  1.000000      0.114006         0.453316   \n",
              "Irritability               0.077095  0.114006      1.000000         0.126877   \n",
              "delayed healing            0.177767  0.453316      0.126877         1.000000   \n",
              "partial paresis            0.364156  0.116669      0.151571         0.187382   \n",
              "muscle stiffness           0.412369  0.215575      0.201637         0.250078   \n",
              "Alopecia                   0.014604  0.266506      0.043708         0.290179   \n",
              "Obesity                    0.109005  0.001894      0.127801        -0.066339   \n",
              "\n",
              "                    partial paresis  muscle stiffness  Alopecia   Obesity  \n",
              "Age                        0.232742          0.307703  0.321691  0.140458  \n",
              "Gender                    -0.332288         -0.090542  0.327871 -0.005396  \n",
              "Polyuria                   0.441664          0.152938 -0.144192  0.126567  \n",
              "Polydipsia                 0.442249          0.180723 -0.310964  0.098691  \n",
              "sudden weight loss         0.264014          0.109756 -0.202727  0.169294  \n",
              "weakness                   0.272982          0.263164  0.090490  0.045665  \n",
              "Polyphagia                 0.373569          0.320031 -0.053498  0.029785  \n",
              "Genital thrush            -0.195612         -0.100188  0.204847  0.053828  \n",
              "visual blurring            0.364156          0.412369  0.014604  0.109005  \n",
              "Itching                    0.116669          0.215575  0.266506  0.001894  \n",
              "Irritability               0.151571          0.201637  0.043708  0.127801  \n",
              "delayed healing            0.187382          0.250078  0.290179 -0.066339  \n",
              "partial paresis            1.000000          0.232634 -0.221576 -0.009401  \n",
              "muscle stiffness           0.232634          1.000000  0.040758  0.158910  \n",
              "Alopecia                  -0.221576          0.040758  1.000000  0.029229  \n",
              "Obesity                   -0.009401          0.158910  0.029229  1.000000  "
            ],
            "text/html": [
              "\n",
              "  <div id=\"df-4ea594be-bf1c-44d4-8c92-bc7c728e43ca\">\n",
              "    <div class=\"colab-df-container\">\n",
              "      <div>\n",
              "<style scoped>\n",
              "    .dataframe tbody tr th:only-of-type {\n",
              "        vertical-align: middle;\n",
              "    }\n",
              "\n",
              "    .dataframe tbody tr th {\n",
              "        vertical-align: top;\n",
              "    }\n",
              "\n",
              "    .dataframe thead th {\n",
              "        text-align: right;\n",
              "    }\n",
              "</style>\n",
              "<table border=\"1\" class=\"dataframe\">\n",
              "  <thead>\n",
              "    <tr style=\"text-align: right;\">\n",
              "      <th></th>\n",
              "      <th>Age</th>\n",
              "      <th>Gender</th>\n",
              "      <th>Polyuria</th>\n",
              "      <th>Polydipsia</th>\n",
              "      <th>sudden weight loss</th>\n",
              "      <th>weakness</th>\n",
              "      <th>Polyphagia</th>\n",
              "      <th>Genital thrush</th>\n",
              "      <th>visual blurring</th>\n",
              "      <th>Itching</th>\n",
              "      <th>Irritability</th>\n",
              "      <th>delayed healing</th>\n",
              "      <th>partial paresis</th>\n",
              "      <th>muscle stiffness</th>\n",
              "      <th>Alopecia</th>\n",
              "      <th>Obesity</th>\n",
              "    </tr>\n",
              "  </thead>\n",
              "  <tbody>\n",
              "    <tr>\n",
              "      <th>Age</th>\n",
              "      <td>1.000000</td>\n",
              "      <td>0.062872</td>\n",
              "      <td>0.199781</td>\n",
              "      <td>0.137382</td>\n",
              "      <td>0.064808</td>\n",
              "      <td>0.224596</td>\n",
              "      <td>0.315577</td>\n",
              "      <td>0.096519</td>\n",
              "      <td>0.402729</td>\n",
              "      <td>0.296559</td>\n",
              "      <td>0.201625</td>\n",
              "      <td>0.257501</td>\n",
              "      <td>0.232742</td>\n",
              "      <td>0.307703</td>\n",
              "      <td>0.321691</td>\n",
              "      <td>0.140458</td>\n",
              "    </tr>\n",
              "    <tr>\n",
              "      <th>Gender</th>\n",
              "      <td>0.062872</td>\n",
              "      <td>1.000000</td>\n",
              "      <td>-0.268894</td>\n",
              "      <td>-0.312262</td>\n",
              "      <td>-0.281840</td>\n",
              "      <td>-0.124490</td>\n",
              "      <td>-0.219968</td>\n",
              "      <td>0.208961</td>\n",
              "      <td>-0.208092</td>\n",
              "      <td>-0.052496</td>\n",
              "      <td>-0.013735</td>\n",
              "      <td>-0.101978</td>\n",
              "      <td>-0.332288</td>\n",
              "      <td>-0.090542</td>\n",
              "      <td>0.327871</td>\n",
              "      <td>-0.005396</td>\n",
              "    </tr>\n",
              "    <tr>\n",
              "      <th>Polyuria</th>\n",
              "      <td>0.199781</td>\n",
              "      <td>-0.268894</td>\n",
              "      <td>1.000000</td>\n",
              "      <td>0.598609</td>\n",
              "      <td>0.447207</td>\n",
              "      <td>0.263000</td>\n",
              "      <td>0.373873</td>\n",
              "      <td>0.087273</td>\n",
              "      <td>0.235095</td>\n",
              "      <td>0.088289</td>\n",
              "      <td>0.237740</td>\n",
              "      <td>0.149873</td>\n",
              "      <td>0.441664</td>\n",
              "      <td>0.152938</td>\n",
              "      <td>-0.144192</td>\n",
              "      <td>0.126567</td>\n",
              "    </tr>\n",
              "    <tr>\n",
              "      <th>Polydipsia</th>\n",
              "      <td>0.137382</td>\n",
              "      <td>-0.312262</td>\n",
              "      <td>0.598609</td>\n",
              "      <td>1.000000</td>\n",
              "      <td>0.405965</td>\n",
              "      <td>0.332453</td>\n",
              "      <td>0.316839</td>\n",
              "      <td>0.028081</td>\n",
              "      <td>0.331250</td>\n",
              "      <td>0.128716</td>\n",
              "      <td>0.203446</td>\n",
              "      <td>0.115691</td>\n",
              "      <td>0.442249</td>\n",
              "      <td>0.180723</td>\n",
              "      <td>-0.310964</td>\n",
              "      <td>0.098691</td>\n",
              "    </tr>\n",
              "    <tr>\n",
              "      <th>sudden weight loss</th>\n",
              "      <td>0.064808</td>\n",
              "      <td>-0.281840</td>\n",
              "      <td>0.447207</td>\n",
              "      <td>0.405965</td>\n",
              "      <td>1.000000</td>\n",
              "      <td>0.282884</td>\n",
              "      <td>0.243511</td>\n",
              "      <td>0.089858</td>\n",
              "      <td>0.068754</td>\n",
              "      <td>-0.004516</td>\n",
              "      <td>0.140340</td>\n",
              "      <td>0.088140</td>\n",
              "      <td>0.264014</td>\n",
              "      <td>0.109756</td>\n",
              "      <td>-0.202727</td>\n",
              "      <td>0.169294</td>\n",
              "    </tr>\n",
              "    <tr>\n",
              "      <th>weakness</th>\n",
              "      <td>0.224596</td>\n",
              "      <td>-0.124490</td>\n",
              "      <td>0.263000</td>\n",
              "      <td>0.332453</td>\n",
              "      <td>0.282884</td>\n",
              "      <td>1.000000</td>\n",
              "      <td>0.180266</td>\n",
              "      <td>0.027780</td>\n",
              "      <td>0.301043</td>\n",
              "      <td>0.309440</td>\n",
              "      <td>0.146698</td>\n",
              "      <td>0.335507</td>\n",
              "      <td>0.272982</td>\n",
              "      <td>0.263164</td>\n",
              "      <td>0.090490</td>\n",
              "      <td>0.045665</td>\n",
              "    </tr>\n",
              "    <tr>\n",
              "      <th>Polyphagia</th>\n",
              "      <td>0.315577</td>\n",
              "      <td>-0.219968</td>\n",
              "      <td>0.373873</td>\n",
              "      <td>0.316839</td>\n",
              "      <td>0.243511</td>\n",
              "      <td>0.180266</td>\n",
              "      <td>1.000000</td>\n",
              "      <td>-0.063712</td>\n",
              "      <td>0.293545</td>\n",
              "      <td>0.144390</td>\n",
              "      <td>0.239466</td>\n",
              "      <td>0.263980</td>\n",
              "      <td>0.373569</td>\n",
              "      <td>0.320031</td>\n",
              "      <td>-0.053498</td>\n",
              "      <td>0.029785</td>\n",
              "    </tr>\n",
              "    <tr>\n",
              "      <th>Genital thrush</th>\n",
              "      <td>0.096519</td>\n",
              "      <td>0.208961</td>\n",
              "      <td>0.087273</td>\n",
              "      <td>0.028081</td>\n",
              "      <td>0.089858</td>\n",
              "      <td>0.027780</td>\n",
              "      <td>-0.063712</td>\n",
              "      <td>1.000000</td>\n",
              "      <td>-0.148408</td>\n",
              "      <td>0.125336</td>\n",
              "      <td>0.160551</td>\n",
              "      <td>0.136111</td>\n",
              "      <td>-0.195612</td>\n",
              "      <td>-0.100188</td>\n",
              "      <td>0.204847</td>\n",
              "      <td>0.053828</td>\n",
              "    </tr>\n",
              "    <tr>\n",
              "      <th>visual blurring</th>\n",
              "      <td>0.402729</td>\n",
              "      <td>-0.208092</td>\n",
              "      <td>0.235095</td>\n",
              "      <td>0.331250</td>\n",
              "      <td>0.068754</td>\n",
              "      <td>0.301043</td>\n",
              "      <td>0.293545</td>\n",
              "      <td>-0.148408</td>\n",
              "      <td>1.000000</td>\n",
              "      <td>0.291191</td>\n",
              "      <td>0.077095</td>\n",
              "      <td>0.177767</td>\n",
              "      <td>0.364156</td>\n",
              "      <td>0.412369</td>\n",
              "      <td>0.014604</td>\n",
              "      <td>0.109005</td>\n",
              "    </tr>\n",
              "    <tr>\n",
              "      <th>Itching</th>\n",
              "      <td>0.296559</td>\n",
              "      <td>-0.052496</td>\n",
              "      <td>0.088289</td>\n",
              "      <td>0.128716</td>\n",
              "      <td>-0.004516</td>\n",
              "      <td>0.309440</td>\n",
              "      <td>0.144390</td>\n",
              "      <td>0.125336</td>\n",
              "      <td>0.291191</td>\n",
              "      <td>1.000000</td>\n",
              "      <td>0.114006</td>\n",
              "      <td>0.453316</td>\n",
              "      <td>0.116669</td>\n",
              "      <td>0.215575</td>\n",
              "      <td>0.266506</td>\n",
              "      <td>0.001894</td>\n",
              "    </tr>\n",
              "    <tr>\n",
              "      <th>Irritability</th>\n",
              "      <td>0.201625</td>\n",
              "      <td>-0.013735</td>\n",
              "      <td>0.237740</td>\n",
              "      <td>0.203446</td>\n",
              "      <td>0.140340</td>\n",
              "      <td>0.146698</td>\n",
              "      <td>0.239466</td>\n",
              "      <td>0.160551</td>\n",
              "      <td>0.077095</td>\n",
              "      <td>0.114006</td>\n",
              "      <td>1.000000</td>\n",
              "      <td>0.126877</td>\n",
              "      <td>0.151571</td>\n",
              "      <td>0.201637</td>\n",
              "      <td>0.043708</td>\n",
              "      <td>0.127801</td>\n",
              "    </tr>\n",
              "    <tr>\n",
              "      <th>delayed healing</th>\n",
              "      <td>0.257501</td>\n",
              "      <td>-0.101978</td>\n",
              "      <td>0.149873</td>\n",
              "      <td>0.115691</td>\n",
              "      <td>0.088140</td>\n",
              "      <td>0.335507</td>\n",
              "      <td>0.263980</td>\n",
              "      <td>0.136111</td>\n",
              "      <td>0.177767</td>\n",
              "      <td>0.453316</td>\n",
              "      <td>0.126877</td>\n",
              "      <td>1.000000</td>\n",
              "      <td>0.187382</td>\n",
              "      <td>0.250078</td>\n",
              "      <td>0.290179</td>\n",
              "      <td>-0.066339</td>\n",
              "    </tr>\n",
              "    <tr>\n",
              "      <th>partial paresis</th>\n",
              "      <td>0.232742</td>\n",
              "      <td>-0.332288</td>\n",
              "      <td>0.441664</td>\n",
              "      <td>0.442249</td>\n",
              "      <td>0.264014</td>\n",
              "      <td>0.272982</td>\n",
              "      <td>0.373569</td>\n",
              "      <td>-0.195612</td>\n",
              "      <td>0.364156</td>\n",
              "      <td>0.116669</td>\n",
              "      <td>0.151571</td>\n",
              "      <td>0.187382</td>\n",
              "      <td>1.000000</td>\n",
              "      <td>0.232634</td>\n",
              "      <td>-0.221576</td>\n",
              "      <td>-0.009401</td>\n",
              "    </tr>\n",
              "    <tr>\n",
              "      <th>muscle stiffness</th>\n",
              "      <td>0.307703</td>\n",
              "      <td>-0.090542</td>\n",
              "      <td>0.152938</td>\n",
              "      <td>0.180723</td>\n",
              "      <td>0.109756</td>\n",
              "      <td>0.263164</td>\n",
              "      <td>0.320031</td>\n",
              "      <td>-0.100188</td>\n",
              "      <td>0.412369</td>\n",
              "      <td>0.215575</td>\n",
              "      <td>0.201637</td>\n",
              "      <td>0.250078</td>\n",
              "      <td>0.232634</td>\n",
              "      <td>1.000000</td>\n",
              "      <td>0.040758</td>\n",
              "      <td>0.158910</td>\n",
              "    </tr>\n",
              "    <tr>\n",
              "      <th>Alopecia</th>\n",
              "      <td>0.321691</td>\n",
              "      <td>0.327871</td>\n",
              "      <td>-0.144192</td>\n",
              "      <td>-0.310964</td>\n",
              "      <td>-0.202727</td>\n",
              "      <td>0.090490</td>\n",
              "      <td>-0.053498</td>\n",
              "      <td>0.204847</td>\n",
              "      <td>0.014604</td>\n",
              "      <td>0.266506</td>\n",
              "      <td>0.043708</td>\n",
              "      <td>0.290179</td>\n",
              "      <td>-0.221576</td>\n",
              "      <td>0.040758</td>\n",
              "      <td>1.000000</td>\n",
              "      <td>0.029229</td>\n",
              "    </tr>\n",
              "    <tr>\n",
              "      <th>Obesity</th>\n",
              "      <td>0.140458</td>\n",
              "      <td>-0.005396</td>\n",
              "      <td>0.126567</td>\n",
              "      <td>0.098691</td>\n",
              "      <td>0.169294</td>\n",
              "      <td>0.045665</td>\n",
              "      <td>0.029785</td>\n",
              "      <td>0.053828</td>\n",
              "      <td>0.109005</td>\n",
              "      <td>0.001894</td>\n",
              "      <td>0.127801</td>\n",
              "      <td>-0.066339</td>\n",
              "      <td>-0.009401</td>\n",
              "      <td>0.158910</td>\n",
              "      <td>0.029229</td>\n",
              "      <td>1.000000</td>\n",
              "    </tr>\n",
              "  </tbody>\n",
              "</table>\n",
              "</div>\n",
              "      <button class=\"colab-df-convert\" onclick=\"convertToInteractive('df-4ea594be-bf1c-44d4-8c92-bc7c728e43ca')\"\n",
              "              title=\"Convert this dataframe to an interactive table.\"\n",
              "              style=\"display:none;\">\n",
              "        \n",
              "  <svg xmlns=\"http://www.w3.org/2000/svg\" height=\"24px\"viewBox=\"0 0 24 24\"\n",
              "       width=\"24px\">\n",
              "    <path d=\"M0 0h24v24H0V0z\" fill=\"none\"/>\n",
              "    <path d=\"M18.56 5.44l.94 2.06.94-2.06 2.06-.94-2.06-.94-.94-2.06-.94 2.06-2.06.94zm-11 1L8.5 8.5l.94-2.06 2.06-.94-2.06-.94L8.5 2.5l-.94 2.06-2.06.94zm10 10l.94 2.06.94-2.06 2.06-.94-2.06-.94-.94-2.06-.94 2.06-2.06.94z\"/><path d=\"M17.41 7.96l-1.37-1.37c-.4-.4-.92-.59-1.43-.59-.52 0-1.04.2-1.43.59L10.3 9.45l-7.72 7.72c-.78.78-.78 2.05 0 2.83L4 21.41c.39.39.9.59 1.41.59.51 0 1.02-.2 1.41-.59l7.78-7.78 2.81-2.81c.8-.78.8-2.07 0-2.86zM5.41 20L4 18.59l7.72-7.72 1.47 1.35L5.41 20z\"/>\n",
              "  </svg>\n",
              "      </button>\n",
              "      \n",
              "  <style>\n",
              "    .colab-df-container {\n",
              "      display:flex;\n",
              "      flex-wrap:wrap;\n",
              "      gap: 12px;\n",
              "    }\n",
              "\n",
              "    .colab-df-convert {\n",
              "      background-color: #E8F0FE;\n",
              "      border: none;\n",
              "      border-radius: 50%;\n",
              "      cursor: pointer;\n",
              "      display: none;\n",
              "      fill: #1967D2;\n",
              "      height: 32px;\n",
              "      padding: 0 0 0 0;\n",
              "      width: 32px;\n",
              "    }\n",
              "\n",
              "    .colab-df-convert:hover {\n",
              "      background-color: #E2EBFA;\n",
              "      box-shadow: 0px 1px 2px rgba(60, 64, 67, 0.3), 0px 1px 3px 1px rgba(60, 64, 67, 0.15);\n",
              "      fill: #174EA6;\n",
              "    }\n",
              "\n",
              "    [theme=dark] .colab-df-convert {\n",
              "      background-color: #3B4455;\n",
              "      fill: #D2E3FC;\n",
              "    }\n",
              "\n",
              "    [theme=dark] .colab-df-convert:hover {\n",
              "      background-color: #434B5C;\n",
              "      box-shadow: 0px 1px 3px 1px rgba(0, 0, 0, 0.15);\n",
              "      filter: drop-shadow(0px 1px 2px rgba(0, 0, 0, 0.3));\n",
              "      fill: #FFFFFF;\n",
              "    }\n",
              "  </style>\n",
              "\n",
              "      <script>\n",
              "        const buttonEl =\n",
              "          document.querySelector('#df-4ea594be-bf1c-44d4-8c92-bc7c728e43ca button.colab-df-convert');\n",
              "        buttonEl.style.display =\n",
              "          google.colab.kernel.accessAllowed ? 'block' : 'none';\n",
              "\n",
              "        async function convertToInteractive(key) {\n",
              "          const element = document.querySelector('#df-4ea594be-bf1c-44d4-8c92-bc7c728e43ca');\n",
              "          const dataTable =\n",
              "            await google.colab.kernel.invokeFunction('convertToInteractive',\n",
              "                                                     [key], {});\n",
              "          if (!dataTable) return;\n",
              "\n",
              "          const docLinkHtml = 'Like what you see? Visit the ' +\n",
              "            '<a target=\"_blank\" href=https://colab.research.google.com/notebooks/data_table.ipynb>data table notebook</a>'\n",
              "            + ' to learn more about interactive tables.';\n",
              "          element.innerHTML = '';\n",
              "          dataTable['output_type'] = 'display_data';\n",
              "          await google.colab.output.renderOutput(dataTable, element);\n",
              "          const docLink = document.createElement('div');\n",
              "          docLink.innerHTML = docLinkHtml;\n",
              "          element.appendChild(docLink);\n",
              "        }\n",
              "      </script>\n",
              "    </div>\n",
              "  </div>\n",
              "  "
            ]
          },
          "metadata": {},
          "execution_count": 272
        }
      ],
      "source": [
        "X1.corr()"
      ]
    },
    {
      "cell_type": "code",
      "execution_count": null,
      "metadata": {
        "id": "5DTVWQLYQXIs"
      },
      "outputs": [],
      "source": []
    },
    {
      "cell_type": "markdown",
      "metadata": {
        "id": "mJNI8SCge4lB"
      },
      "source": [
        "###Feature selection using selectkbest"
      ]
    },
    {
      "cell_type": "code",
      "execution_count": null,
      "metadata": {
        "id": "4pQTj4YbuHRI"
      },
      "outputs": [],
      "source": [
        "from sklearn.feature_selection import SelectKBest\n",
        "from sklearn.feature_selection import chi2\n",
        "best_feature = SelectKBest(score_func=chi2,k=10)\n",
        "fit = best_feature.fit(X1,y1)\n",
        "dataset_scores = pd.DataFrame(fit.scores_)\n",
        "dataset_cols = pd.DataFrame(X1.columns)\n",
        "featurescores = pd.concat([dataset_cols,dataset_scores],axis=1)\n",
        "featurescores.columns=['column','scores']"
      ]
    },
    {
      "cell_type": "markdown",
      "metadata": {
        "id": "T8sM5qU3e_fR"
      },
      "source": [
        "These are the variables with their feature scores ,their importance/contribution towards class"
      ]
    },
    {
      "cell_type": "code",
      "execution_count": null,
      "metadata": {
        "colab": {
          "base_uri": "https://localhost:8080/",
          "height": 551
        },
        "id": "3iJ_UyteuHkH",
        "outputId": "5e504c60-b958-4f7c-b466-905865263d77"
      },
      "outputs": [
        {
          "output_type": "execute_result",
          "data": {
            "text/plain": [
              "                column      scores\n",
              "0                  Age   18.845767\n",
              "1               Gender   38.747637\n",
              "2             Polyuria  116.184593\n",
              "3           Polydipsia  120.785515\n",
              "4   sudden weight loss   57.749309\n",
              "5             weakness   12.724262\n",
              "6           Polyphagia   33.198418\n",
              "7       Genital thrush    4.914009\n",
              "8      visual blurring   18.124571\n",
              "9              Itching    0.047826\n",
              "10        Irritability   35.334127\n",
              "11     delayed healing    0.620188\n",
              "12     partial paresis   55.314286\n",
              "13    muscle stiffness    4.875000\n",
              "14            Alopecia   24.402793\n",
              "15             Obesity    2.250284"
            ],
            "text/html": [
              "\n",
              "  <div id=\"df-bec452ba-bce4-4f3b-bf6a-428824965bf9\">\n",
              "    <div class=\"colab-df-container\">\n",
              "      <div>\n",
              "<style scoped>\n",
              "    .dataframe tbody tr th:only-of-type {\n",
              "        vertical-align: middle;\n",
              "    }\n",
              "\n",
              "    .dataframe tbody tr th {\n",
              "        vertical-align: top;\n",
              "    }\n",
              "\n",
              "    .dataframe thead th {\n",
              "        text-align: right;\n",
              "    }\n",
              "</style>\n",
              "<table border=\"1\" class=\"dataframe\">\n",
              "  <thead>\n",
              "    <tr style=\"text-align: right;\">\n",
              "      <th></th>\n",
              "      <th>column</th>\n",
              "      <th>scores</th>\n",
              "    </tr>\n",
              "  </thead>\n",
              "  <tbody>\n",
              "    <tr>\n",
              "      <th>0</th>\n",
              "      <td>Age</td>\n",
              "      <td>18.845767</td>\n",
              "    </tr>\n",
              "    <tr>\n",
              "      <th>1</th>\n",
              "      <td>Gender</td>\n",
              "      <td>38.747637</td>\n",
              "    </tr>\n",
              "    <tr>\n",
              "      <th>2</th>\n",
              "      <td>Polyuria</td>\n",
              "      <td>116.184593</td>\n",
              "    </tr>\n",
              "    <tr>\n",
              "      <th>3</th>\n",
              "      <td>Polydipsia</td>\n",
              "      <td>120.785515</td>\n",
              "    </tr>\n",
              "    <tr>\n",
              "      <th>4</th>\n",
              "      <td>sudden weight loss</td>\n",
              "      <td>57.749309</td>\n",
              "    </tr>\n",
              "    <tr>\n",
              "      <th>5</th>\n",
              "      <td>weakness</td>\n",
              "      <td>12.724262</td>\n",
              "    </tr>\n",
              "    <tr>\n",
              "      <th>6</th>\n",
              "      <td>Polyphagia</td>\n",
              "      <td>33.198418</td>\n",
              "    </tr>\n",
              "    <tr>\n",
              "      <th>7</th>\n",
              "      <td>Genital thrush</td>\n",
              "      <td>4.914009</td>\n",
              "    </tr>\n",
              "    <tr>\n",
              "      <th>8</th>\n",
              "      <td>visual blurring</td>\n",
              "      <td>18.124571</td>\n",
              "    </tr>\n",
              "    <tr>\n",
              "      <th>9</th>\n",
              "      <td>Itching</td>\n",
              "      <td>0.047826</td>\n",
              "    </tr>\n",
              "    <tr>\n",
              "      <th>10</th>\n",
              "      <td>Irritability</td>\n",
              "      <td>35.334127</td>\n",
              "    </tr>\n",
              "    <tr>\n",
              "      <th>11</th>\n",
              "      <td>delayed healing</td>\n",
              "      <td>0.620188</td>\n",
              "    </tr>\n",
              "    <tr>\n",
              "      <th>12</th>\n",
              "      <td>partial paresis</td>\n",
              "      <td>55.314286</td>\n",
              "    </tr>\n",
              "    <tr>\n",
              "      <th>13</th>\n",
              "      <td>muscle stiffness</td>\n",
              "      <td>4.875000</td>\n",
              "    </tr>\n",
              "    <tr>\n",
              "      <th>14</th>\n",
              "      <td>Alopecia</td>\n",
              "      <td>24.402793</td>\n",
              "    </tr>\n",
              "    <tr>\n",
              "      <th>15</th>\n",
              "      <td>Obesity</td>\n",
              "      <td>2.250284</td>\n",
              "    </tr>\n",
              "  </tbody>\n",
              "</table>\n",
              "</div>\n",
              "      <button class=\"colab-df-convert\" onclick=\"convertToInteractive('df-bec452ba-bce4-4f3b-bf6a-428824965bf9')\"\n",
              "              title=\"Convert this dataframe to an interactive table.\"\n",
              "              style=\"display:none;\">\n",
              "        \n",
              "  <svg xmlns=\"http://www.w3.org/2000/svg\" height=\"24px\"viewBox=\"0 0 24 24\"\n",
              "       width=\"24px\">\n",
              "    <path d=\"M0 0h24v24H0V0z\" fill=\"none\"/>\n",
              "    <path d=\"M18.56 5.44l.94 2.06.94-2.06 2.06-.94-2.06-.94-.94-2.06-.94 2.06-2.06.94zm-11 1L8.5 8.5l.94-2.06 2.06-.94-2.06-.94L8.5 2.5l-.94 2.06-2.06.94zm10 10l.94 2.06.94-2.06 2.06-.94-2.06-.94-.94-2.06-.94 2.06-2.06.94z\"/><path d=\"M17.41 7.96l-1.37-1.37c-.4-.4-.92-.59-1.43-.59-.52 0-1.04.2-1.43.59L10.3 9.45l-7.72 7.72c-.78.78-.78 2.05 0 2.83L4 21.41c.39.39.9.59 1.41.59.51 0 1.02-.2 1.41-.59l7.78-7.78 2.81-2.81c.8-.78.8-2.07 0-2.86zM5.41 20L4 18.59l7.72-7.72 1.47 1.35L5.41 20z\"/>\n",
              "  </svg>\n",
              "      </button>\n",
              "      \n",
              "  <style>\n",
              "    .colab-df-container {\n",
              "      display:flex;\n",
              "      flex-wrap:wrap;\n",
              "      gap: 12px;\n",
              "    }\n",
              "\n",
              "    .colab-df-convert {\n",
              "      background-color: #E8F0FE;\n",
              "      border: none;\n",
              "      border-radius: 50%;\n",
              "      cursor: pointer;\n",
              "      display: none;\n",
              "      fill: #1967D2;\n",
              "      height: 32px;\n",
              "      padding: 0 0 0 0;\n",
              "      width: 32px;\n",
              "    }\n",
              "\n",
              "    .colab-df-convert:hover {\n",
              "      background-color: #E2EBFA;\n",
              "      box-shadow: 0px 1px 2px rgba(60, 64, 67, 0.3), 0px 1px 3px 1px rgba(60, 64, 67, 0.15);\n",
              "      fill: #174EA6;\n",
              "    }\n",
              "\n",
              "    [theme=dark] .colab-df-convert {\n",
              "      background-color: #3B4455;\n",
              "      fill: #D2E3FC;\n",
              "    }\n",
              "\n",
              "    [theme=dark] .colab-df-convert:hover {\n",
              "      background-color: #434B5C;\n",
              "      box-shadow: 0px 1px 3px 1px rgba(0, 0, 0, 0.15);\n",
              "      filter: drop-shadow(0px 1px 2px rgba(0, 0, 0, 0.3));\n",
              "      fill: #FFFFFF;\n",
              "    }\n",
              "  </style>\n",
              "\n",
              "      <script>\n",
              "        const buttonEl =\n",
              "          document.querySelector('#df-bec452ba-bce4-4f3b-bf6a-428824965bf9 button.colab-df-convert');\n",
              "        buttonEl.style.display =\n",
              "          google.colab.kernel.accessAllowed ? 'block' : 'none';\n",
              "\n",
              "        async function convertToInteractive(key) {\n",
              "          const element = document.querySelector('#df-bec452ba-bce4-4f3b-bf6a-428824965bf9');\n",
              "          const dataTable =\n",
              "            await google.colab.kernel.invokeFunction('convertToInteractive',\n",
              "                                                     [key], {});\n",
              "          if (!dataTable) return;\n",
              "\n",
              "          const docLinkHtml = 'Like what you see? Visit the ' +\n",
              "            '<a target=\"_blank\" href=https://colab.research.google.com/notebooks/data_table.ipynb>data table notebook</a>'\n",
              "            + ' to learn more about interactive tables.';\n",
              "          element.innerHTML = '';\n",
              "          dataTable['output_type'] = 'display_data';\n",
              "          await google.colab.output.renderOutput(dataTable, element);\n",
              "          const docLink = document.createElement('div');\n",
              "          docLink.innerHTML = docLinkHtml;\n",
              "          element.appendChild(docLink);\n",
              "        }\n",
              "      </script>\n",
              "    </div>\n",
              "  </div>\n",
              "  "
            ]
          },
          "metadata": {},
          "execution_count": 274
        }
      ],
      "source": [
        "featurescores"
      ]
    },
    {
      "cell_type": "code",
      "execution_count": null,
      "metadata": {
        "colab": {
          "base_uri": "https://localhost:8080/"
        },
        "id": "sWObjT4HuHnS",
        "outputId": "5591bc2c-17f1-4994-d4c3-81a62bc477a2"
      },
      "outputs": [
        {
          "output_type": "stream",
          "name": "stdout",
          "text": [
            "                column      scores\n",
            "3           Polydipsia  120.785515\n",
            "2             Polyuria  116.184593\n",
            "4   sudden weight loss   57.749309\n",
            "12     partial paresis   55.314286\n",
            "1               Gender   38.747637\n",
            "10        Irritability   35.334127\n",
            "6           Polyphagia   33.198418\n",
            "14            Alopecia   24.402793\n",
            "0                  Age   18.845767\n",
            "8      visual blurring   18.124571\n"
          ]
        }
      ],
      "source": [
        "print(featurescores.nlargest(10,'scores'))"
      ]
    },
    {
      "cell_type": "code",
      "execution_count": null,
      "metadata": {
        "colab": {
          "base_uri": "https://localhost:8080/",
          "height": 282
        },
        "id": "gGUPaQdIuS8A",
        "outputId": "5b2d975a-5245-4502-ed64-080fec667f70"
      },
      "outputs": [
        {
          "output_type": "execute_result",
          "data": {
            "text/plain": [
              "<matplotlib.axes._subplots.AxesSubplot at 0x7fe683135e50>"
            ]
          },
          "metadata": {},
          "execution_count": 276
        },
        {
          "output_type": "display_data",
          "data": {
            "text/plain": [
              "<Figure size 432x288 with 1 Axes>"
            ],
            "image/png": "[encoded data removed]"
          },
          "metadata": {
            "needs_background": "light"
          }
        }
      ],
      "source": [
        "featureview=pd.Series(fit.scores_, index=X1.columns)\n",
        "featureview.plot(kind='barh')"
      ]
    },
    {
      "cell_type": "code",
      "execution_count": null,
      "metadata": {
        "id": "aCH8cxapuS-D"
      },
      "outputs": [],
      "source": [
        "from sklearn.feature_selection import VarianceThreshold\n",
        "feature_high_variance = VarianceThreshold(threshold=(0.5*(1-0.5)))\n",
        "falls=feature_high_variance.fit(X1)"
      ]
    },
    {
      "cell_type": "code",
      "execution_count": null,
      "metadata": {
        "id": "70Y9BFybucqK"
      },
      "outputs": [],
      "source": [
        "dataset_scores1 = pd.DataFrame(falls.variances_)\n",
        "dat1 = pd.DataFrame(X1.columns)"
      ]
    },
    {
      "cell_type": "code",
      "execution_count": null,
      "metadata": {
        "id": "E6NKhGenucsP"
      },
      "outputs": [],
      "source": [
        "high_variance = pd.concat([dataset_scores1,dat1],axis=1)\n",
        "high_variance.columns=['variance','cols']"
      ]
    },
    {
      "cell_type": "code",
      "execution_count": null,
      "metadata": {
        "colab": {
          "base_uri": "https://localhost:8080/",
          "height": 457
        },
        "id": "9a6plY-nucvP",
        "outputId": "24946493-69df-4ee3-ed56-e7badeaeb490"
      },
      "outputs": [
        {
          "output_type": "execute_result",
          "data": {
            "text/plain": [
              "      variance                cols\n",
              "0   147.374168                 Age\n",
              "1     0.232899              Gender\n",
              "2     0.249985            Polyuria\n",
              "3     0.247304          Polydipsia\n",
              "4     0.243162  sudden weight loss\n",
              "5     0.242511            weakness\n",
              "6     0.248044          Polyphagia\n",
              "8     0.247304     visual blurring\n",
              "9     0.249819             Itching\n",
              "11    0.248369     delayed healing\n",
              "12    0.245207     partial paresis\n",
              "13    0.234375    muscle stiffness\n",
              "14    0.225736            Alopecia"
            ],
            "text/html": [
              "\n",
              "  <div id=\"df-53812504-e377-45a1-9ad9-88fa065390c9\">\n",
              "    <div class=\"colab-df-container\">\n",
              "      <div>\n",
              "<style scoped>\n",
              "    .dataframe tbody tr th:only-of-type {\n",
              "        vertical-align: middle;\n",
              "    }\n",
              "\n",
              "    .dataframe tbody tr th {\n",
              "        vertical-align: top;\n",
              "    }\n",
              "\n",
              "    .dataframe thead th {\n",
              "        text-align: right;\n",
              "    }\n",
              "</style>\n",
              "<table border=\"1\" class=\"dataframe\">\n",
              "  <thead>\n",
              "    <tr style=\"text-align: right;\">\n",
              "      <th></th>\n",
              "      <th>variance</th>\n",
              "      <th>cols</th>\n",
              "    </tr>\n",
              "  </thead>\n",
              "  <tbody>\n",
              "    <tr>\n",
              "      <th>0</th>\n",
              "      <td>147.374168</td>\n",
              "      <td>Age</td>\n",
              "    </tr>\n",
              "    <tr>\n",
              "      <th>1</th>\n",
              "      <td>0.232899</td>\n",
              "      <td>Gender</td>\n",
              "    </tr>\n",
              "    <tr>\n",
              "      <th>2</th>\n",
              "      <td>0.249985</td>\n",
              "      <td>Polyuria</td>\n",
              "    </tr>\n",
              "    <tr>\n",
              "      <th>3</th>\n",
              "      <td>0.247304</td>\n",
              "      <td>Polydipsia</td>\n",
              "    </tr>\n",
              "    <tr>\n",
              "      <th>4</th>\n",
              "      <td>0.243162</td>\n",
              "      <td>sudden weight loss</td>\n",
              "    </tr>\n",
              "    <tr>\n",
              "      <th>5</th>\n",
              "      <td>0.242511</td>\n",
              "      <td>weakness</td>\n",
              "    </tr>\n",
              "    <tr>\n",
              "      <th>6</th>\n",
              "      <td>0.248044</td>\n",
              "      <td>Polyphagia</td>\n",
              "    </tr>\n",
              "    <tr>\n",
              "      <th>8</th>\n",
              "      <td>0.247304</td>\n",
              "      <td>visual blurring</td>\n",
              "    </tr>\n",
              "    <tr>\n",
              "      <th>9</th>\n",
              "      <td>0.249819</td>\n",
              "      <td>Itching</td>\n",
              "    </tr>\n",
              "    <tr>\n",
              "      <th>11</th>\n",
              "      <td>0.248369</td>\n",
              "      <td>delayed healing</td>\n",
              "    </tr>\n",
              "    <tr>\n",
              "      <th>12</th>\n",
              "      <td>0.245207</td>\n",
              "      <td>partial paresis</td>\n",
              "    </tr>\n",
              "    <tr>\n",
              "      <th>13</th>\n",
              "      <td>0.234375</td>\n",
              "      <td>muscle stiffness</td>\n",
              "    </tr>\n",
              "    <tr>\n",
              "      <th>14</th>\n",
              "      <td>0.225736</td>\n",
              "      <td>Alopecia</td>\n",
              "    </tr>\n",
              "  </tbody>\n",
              "</table>\n",
              "</div>\n",
              "      <button class=\"colab-df-convert\" onclick=\"convertToInteractive('df-53812504-e377-45a1-9ad9-88fa065390c9')\"\n",
              "              title=\"Convert this dataframe to an interactive table.\"\n",
              "              style=\"display:none;\">\n",
              "        \n",
              "  <svg xmlns=\"http://www.w3.org/2000/svg\" height=\"24px\"viewBox=\"0 0 24 24\"\n",
              "       width=\"24px\">\n",
              "    <path d=\"M0 0h24v24H0V0z\" fill=\"none\"/>\n",
              "    <path d=\"M18.56 5.44l.94 2.06.94-2.06 2.06-.94-2.06-.94-.94-2.06-.94 2.06-2.06.94zm-11 1L8.5 8.5l.94-2.06 2.06-.94-2.06-.94L8.5 2.5l-.94 2.06-2.06.94zm10 10l.94 2.06.94-2.06 2.06-.94-2.06-.94-.94-2.06-.94 2.06-2.06.94z\"/><path d=\"M17.41 7.96l-1.37-1.37c-.4-.4-.92-.59-1.43-.59-.52 0-1.04.2-1.43.59L10.3 9.45l-7.72 7.72c-.78.78-.78 2.05 0 2.83L4 21.41c.39.39.9.59 1.41.59.51 0 1.02-.2 1.41-.59l7.78-7.78 2.81-2.81c.8-.78.8-2.07 0-2.86zM5.41 20L4 18.59l7.72-7.72 1.47 1.35L5.41 20z\"/>\n",
              "  </svg>\n",
              "      </button>\n",
              "      \n",
              "  <style>\n",
              "    .colab-df-container {\n",
              "      display:flex;\n",
              "      flex-wrap:wrap;\n",
              "      gap: 12px;\n",
              "    }\n",
              "\n",
              "    .colab-df-convert {\n",
              "      background-color: #E8F0FE;\n",
              "      border: none;\n",
              "      border-radius: 50%;\n",
              "      cursor: pointer;\n",
              "      display: none;\n",
              "      fill: #1967D2;\n",
              "      height: 32px;\n",
              "      padding: 0 0 0 0;\n",
              "      width: 32px;\n",
              "    }\n",
              "\n",
              "    .colab-df-convert:hover {\n",
              "      background-color: #E2EBFA;\n",
              "      box-shadow: 0px 1px 2px rgba(60, 64, 67, 0.3), 0px 1px 3px 1px rgba(60, 64, 67, 0.15);\n",
              "      fill: #174EA6;\n",
              "    }\n",
              "\n",
              "    [theme=dark] .colab-df-convert {\n",
              "      background-color: #3B4455;\n",
              "      fill: #D2E3FC;\n",
              "    }\n",
              "\n",
              "    [theme=dark] .colab-df-convert:hover {\n",
              "      background-color: #434B5C;\n",
              "      box-shadow: 0px 1px 3px 1px rgba(0, 0, 0, 0.15);\n",
              "      filter: drop-shadow(0px 1px 2px rgba(0, 0, 0, 0.3));\n",
              "      fill: #FFFFFF;\n",
              "    }\n",
              "  </style>\n",
              "\n",
              "      <script>\n",
              "        const buttonEl =\n",
              "          document.querySelector('#df-53812504-e377-45a1-9ad9-88fa065390c9 button.colab-df-convert');\n",
              "        buttonEl.style.display =\n",
              "          google.colab.kernel.accessAllowed ? 'block' : 'none';\n",
              "\n",
              "        async function convertToInteractive(key) {\n",
              "          const element = document.querySelector('#df-53812504-e377-45a1-9ad9-88fa065390c9');\n",
              "          const dataTable =\n",
              "            await google.colab.kernel.invokeFunction('convertToInteractive',\n",
              "                                                     [key], {});\n",
              "          if (!dataTable) return;\n",
              "\n",
              "          const docLinkHtml = 'Like what you see? Visit the ' +\n",
              "            '<a target=\"_blank\" href=https://colab.research.google.com/notebooks/data_table.ipynb>data table notebook</a>'\n",
              "            + ' to learn more about interactive tables.';\n",
              "          element.innerHTML = '';\n",
              "          dataTable['output_type'] = 'display_data';\n",
              "          await google.colab.output.renderOutput(dataTable, element);\n",
              "          const docLink = document.createElement('div');\n",
              "          docLink.innerHTML = docLinkHtml;\n",
              "          element.appendChild(docLink);\n",
              "        }\n",
              "      </script>\n",
              "    </div>\n",
              "  </div>\n",
              "  "
            ]
          },
          "metadata": {},
          "execution_count": 280
        }
      ],
      "source": [
        "high_variance[high_variance['variance']>0.2]"
      ]
    },
    {
      "cell_type": "code",
      "execution_count": null,
      "metadata": {
        "colab": {
          "base_uri": "https://localhost:8080/",
          "height": 282
        },
        "id": "2RIkevAbucyF",
        "outputId": "ad5c1269-7e1d-46fc-ad77-b092b61c2b2f"
      },
      "outputs": [
        {
          "output_type": "execute_result",
          "data": {
            "text/plain": [
              "<matplotlib.axes._subplots.AxesSubplot at 0x7fe6830b8410>"
            ]
          },
          "metadata": {},
          "execution_count": 281
        },
        {
          "output_type": "display_data",
          "data": {
            "text/plain": [
              "<Figure size 432x288 with 1 Axes>"
            ],
            "image/png": "[encoded data removed]"
          },
          "metadata": {
            "needs_background": "light"
          }
        }
      ],
      "source": [
        "X = dataset[['Polydipsia','sudden weight loss','partial paresis','Irritability','Polyphagia','Age','visual blurring']]\n",
        "y = dataset['class']\n",
        "high_variance.plot(kind='barh')\n"
      ]
    },
    {
      "cell_type": "code",
      "execution_count": null,
      "metadata": {
        "id": "F-w7CLJFuTB3"
      },
      "outputs": [],
      "source": [
        "from sklearn.model_selection import train_test_split\n",
        "X_train,X_test,y_train,y_test = train_test_split(X,y,test_size = 0.2,random_state=0)"
      ]
    },
    {
      "cell_type": "code",
      "execution_count": null,
      "metadata": {
        "id": "Gd282urwuTEv"
      },
      "outputs": [],
      "source": [
        "from sklearn.preprocessing import StandardScaler\n",
        "ss = StandardScaler()\n",
        "X_train = ss.fit_transform(X_train)\n",
        "X_test = ss.transform(X_test)"
      ]
    },
    {
      "cell_type": "markdown",
      "metadata": {
        "id": "4TvRPffguxDq"
      },
      "source": [
        "# Logistics Regression\n"
      ]
    },
    {
      "cell_type": "code",
      "execution_count": null,
      "metadata": {
        "colab": {
          "base_uri": "https://localhost:8080/"
        },
        "id": "PY5XeRFWu2kA",
        "outputId": "9e05b49e-f872-4852-b889-6a79468b5c7c"
      },
      "outputs": [
        {
          "output_type": "execute_result",
          "data": {
            "text/plain": [
              "LogisticRegression()"
            ]
          },
          "metadata": {},
          "execution_count": 284
        }
      ],
      "source": [
        "from sklearn.linear_model import LogisticRegression\n",
        "lg=LogisticRegression()\n",
        "lg.fit(X_train,y_train)"
      ]
    },
    {
      "cell_type": "code",
      "execution_count": null,
      "metadata": {
        "colab": {
          "base_uri": "https://localhost:8080/"
        },
        "id": "yiqY4ZMnvENO",
        "outputId": "b9930c01-92b6-4f87-8037-1bd6e0543f38"
      },
      "outputs": [
        {
          "output_type": "stream",
          "name": "stdout",
          "text": [
            "accuracy is 84.85 %\n",
            "std is 4.95 %\n"
          ]
        }
      ],
      "source": [
        "from sklearn.model_selection import cross_val_score\n",
        "accuracies = cross_val_score(estimator=lg, X=X_train ,y=y_train,cv=10)\n",
        "print(\"accuracy is {:.2f} %\".format(accuracies.mean()*100))\n",
        "print(\"std is {:.2f} %\".format(accuracies.std()*100))"
      ]
    },
    {
      "cell_type": "code",
      "execution_count": null,
      "metadata": {
        "id": "MLbT1e8AvEQf"
      },
      "outputs": [],
      "source": [
        "pre=lg.predict(X_test)"
      ]
    },
    {
      "cell_type": "code",
      "execution_count": null,
      "metadata": {
        "colab": {
          "base_uri": "https://localhost:8080/"
        },
        "id": "dwfaPvtYvEai",
        "outputId": "112ffca8-b618-4e3b-bd54-20c88c5f3c02"
      },
      "outputs": [
        {
          "output_type": "stream",
          "name": "stdout",
          "text": [
            "0.8942307692307693\n",
            "[[34  5]\n",
            " [ 6 59]]\n"
          ]
        }
      ],
      "source": [
        "logistic_regression=accuracy_score(pre,y_test)\n",
        "print(accuracy_score(pre,y_test))\n",
        "print(confusion_matrix(pre,y_test))"
      ]
    },
    {
      "cell_type": "code",
      "execution_count": null,
      "metadata": {
        "colab": {
          "base_uri": "https://localhost:8080/"
        },
        "id": "Rar7wn1uvEds",
        "outputId": "5e91907d-f608-4dfc-af6a-1a822f163ce8"
      },
      "outputs": [
        {
          "output_type": "stream",
          "name": "stdout",
          "text": [
            "              precision    recall  f1-score   support\n",
            "\n",
            "           0       0.85      0.87      0.86        39\n",
            "           1       0.92      0.91      0.91        65\n",
            "\n",
            "    accuracy                           0.89       104\n",
            "   macro avg       0.89      0.89      0.89       104\n",
            "weighted avg       0.89      0.89      0.89       104\n",
            "\n"
          ]
        }
      ],
      "source": [
        "from sklearn.metrics import classification_report\n",
        "print(classification_report(pre,y_test))"
      ]
    },
    {
      "cell_type": "markdown",
      "metadata": {
        "id": "r2Lz9VphveO_"
      },
      "source": [
        "# SVM\n"
      ]
    },
    {
      "cell_type": "code",
      "execution_count": null,
      "metadata": {
        "colab": {
          "base_uri": "https://localhost:8080/"
        },
        "id": "okpNfNgFvTYa",
        "outputId": "c0ae83d6-02e5-4235-8271-a9ded59282b1"
      },
      "outputs": [
        {
          "output_type": "execute_result",
          "data": {
            "text/plain": [
              "SVC(kernel='linear', random_state=0)"
            ]
          },
          "metadata": {},
          "execution_count": 289
        }
      ],
      "source": [
        "from sklearn.svm import SVC\n",
        "sv=SVC(kernel='linear',random_state=0)\n",
        "sv.fit(X_train,y_train)"
      ]
    },
    {
      "cell_type": "code",
      "execution_count": null,
      "metadata": {
        "colab": {
          "base_uri": "https://localhost:8080/"
        },
        "id": "VPDqAoytvnYw",
        "outputId": "20e7909c-3501-43ec-e3d0-cb8262ee36ec"
      },
      "outputs": [
        {
          "output_type": "stream",
          "name": "stdout",
          "text": [
            "accuracy is 83.18 %\n",
            "std is 4.94 %\n"
          ]
        }
      ],
      "source": [
        "from sklearn.model_selection import cross_val_score\n",
        "accuracies = cross_val_score(estimator=sv, X=X_train ,y=y_train,cv=10)\n",
        "print(\"accuracy is {:.2f} %\".format(accuracies.mean()*100))\n",
        "print(\"std is {:.2f} %\".format(accuracies.std()*100))"
      ]
    },
    {
      "cell_type": "code",
      "execution_count": null,
      "metadata": {
        "id": "Dk12YhUCvnbM"
      },
      "outputs": [],
      "source": [
        "pre1=sv.predict(X_test)"
      ]
    },
    {
      "cell_type": "code",
      "execution_count": null,
      "metadata": {
        "colab": {
          "base_uri": "https://localhost:8080/"
        },
        "id": "zEPbAGg7vnd1",
        "outputId": "b335115a-28ba-4076-cdb7-0278c1a8ced8"
      },
      "outputs": [
        {
          "output_type": "stream",
          "name": "stdout",
          "text": [
            "0.9038461538461539\n",
            "[[34  4]\n",
            " [ 6 60]]\n"
          ]
        }
      ],
      "source": [
        "svm_linear=accuracy_score(pre1,y_test)\n",
        "print(accuracy_score(pre1,y_test))\n",
        "print(confusion_matrix(pre1,y_test))"
      ]
    },
    {
      "cell_type": "code",
      "execution_count": null,
      "metadata": {
        "colab": {
          "base_uri": "https://localhost:8080/"
        },
        "id": "8AdQoGiQvngO",
        "outputId": "68e48d02-df1a-4bbd-9bbb-c9b1926e2161"
      },
      "outputs": [
        {
          "output_type": "stream",
          "name": "stdout",
          "text": [
            "              precision    recall  f1-score   support\n",
            "\n",
            "           0       0.85      0.89      0.87        38\n",
            "           1       0.94      0.91      0.92        66\n",
            "\n",
            "    accuracy                           0.90       104\n",
            "   macro avg       0.89      0.90      0.90       104\n",
            "weighted avg       0.91      0.90      0.90       104\n",
            "\n"
          ]
        }
      ],
      "source": [
        "from sklearn.metrics import classification_report\n",
        "print(classification_report(pre1,y_test))"
      ]
    },
    {
      "cell_type": "code",
      "execution_count": null,
      "metadata": {
        "colab": {
          "base_uri": "https://localhost:8080/"
        },
        "id": "GGicUOQ6vnkw",
        "outputId": "4801cef2-c114-4ce0-f056-0d5a88cbac50"
      },
      "outputs": [
        {
          "output_type": "execute_result",
          "data": {
            "text/plain": [
              "SVC(random_state=0)"
            ]
          },
          "metadata": {},
          "execution_count": 294
        }
      ],
      "source": [
        "from sklearn.svm import SVC\n",
        "svrf=SVC(kernel='rbf',random_state=0)\n",
        "svrf.fit(X_train,y_train)"
      ]
    },
    {
      "cell_type": "code",
      "execution_count": null,
      "metadata": {
        "colab": {
          "base_uri": "https://localhost:8080/"
        },
        "id": "BYtOk-vTvnm4",
        "outputId": "3c872148-b0c8-4e96-d8d0-b6905cdc9248"
      },
      "outputs": [
        {
          "output_type": "stream",
          "name": "stdout",
          "text": [
            "accuracy is 88.47 %\n",
            "std is 3.69 %\n"
          ]
        }
      ],
      "source": [
        "from sklearn.model_selection import cross_val_score\n",
        "accuracies = cross_val_score(estimator=svrf, X=X_train ,y=y_train,cv=10)\n",
        "print(\"accuracy is {:.2f} %\".format(accuracies.mean()*100))\n",
        "print(\"std is {:.2f} %\".format(accuracies.std()*100))"
      ]
    },
    {
      "cell_type": "code",
      "execution_count": null,
      "metadata": {
        "id": "0g4k764ivnqk"
      },
      "outputs": [],
      "source": [
        "pre2=svrf.predict(X_test)"
      ]
    },
    {
      "cell_type": "code",
      "execution_count": null,
      "metadata": {
        "colab": {
          "base_uri": "https://localhost:8080/"
        },
        "id": "pzQmwH7lvntb",
        "outputId": "e9d62a43-2783-46d7-ea6f-b473e7124252"
      },
      "outputs": [
        {
          "output_type": "stream",
          "name": "stdout",
          "text": [
            "0.9807692307692307\n",
            "[[39  1]\n",
            " [ 1 63]]\n"
          ]
        }
      ],
      "source": [
        "svm_rbf=accuracy_score(pre2,y_test)\n",
        "print(accuracy_score(pre2,y_test))\n",
        "print(confusion_matrix(pre2,y_test))"
      ]
    },
    {
      "cell_type": "code",
      "execution_count": null,
      "metadata": {
        "colab": {
          "base_uri": "https://localhost:8080/"
        },
        "id": "ww0Y9Ce-vnv8",
        "outputId": "b4fe03bd-1d0b-4a48-863a-e87c29d685bb"
      },
      "outputs": [
        {
          "output_type": "stream",
          "name": "stdout",
          "text": [
            "              precision    recall  f1-score   support\n",
            "\n",
            "           0       0.97      0.97      0.97        40\n",
            "           1       0.98      0.98      0.98        64\n",
            "\n",
            "    accuracy                           0.98       104\n",
            "   macro avg       0.98      0.98      0.98       104\n",
            "weighted avg       0.98      0.98      0.98       104\n",
            "\n"
          ]
        }
      ],
      "source": [
        "from sklearn.metrics import classification_report\n",
        "print(classification_report(pre2,y_test))"
      ]
    },
    {
      "cell_type": "markdown",
      "metadata": {
        "id": "uWm1PJqowX2k"
      },
      "source": [
        "#Navie Bayes- Gaussiann NB\n"
      ]
    },
    {
      "cell_type": "code",
      "execution_count": null,
      "metadata": {
        "colab": {
          "base_uri": "https://localhost:8080/"
        },
        "id": "69MlYMnMvn1k",
        "outputId": "b6007e13-89af-4181-f7a4-f19d51601eea"
      },
      "outputs": [
        {
          "output_type": "execute_result",
          "data": {
            "text/plain": [
              "GaussianNB()"
            ]
          },
          "metadata": {},
          "execution_count": 299
        }
      ],
      "source": [
        "from sklearn.naive_bayes import GaussianNB\n",
        "gb=GaussianNB()\n",
        "gb.fit(X_train,y_train)"
      ]
    },
    {
      "cell_type": "code",
      "execution_count": null,
      "metadata": {
        "colab": {
          "base_uri": "https://localhost:8080/"
        },
        "id": "rUepC5Hfvn6i",
        "outputId": "cdc8b1b2-c9d8-4d82-c864-38349bb7690d"
      },
      "outputs": [
        {
          "output_type": "stream",
          "name": "stdout",
          "text": [
            "accuracy is 82.94 %\n",
            "std is 8.03 %\n"
          ]
        }
      ],
      "source": [
        "from sklearn.model_selection import cross_val_score\n",
        "accuracies = cross_val_score(estimator=gb, X=X_train ,y=y_train,cv=10)\n",
        "print(\"accuracy is {:.2f} %\".format(accuracies.mean()*100))\n",
        "print(\"std is {:.2f} %\".format(accuracies.std()*100))"
      ]
    },
    {
      "cell_type": "code",
      "execution_count": null,
      "metadata": {
        "id": "-GlJUN_8vn9b"
      },
      "outputs": [],
      "source": [
        "pre4=gb.predict(X_test)"
      ]
    },
    {
      "cell_type": "code",
      "execution_count": null,
      "metadata": {
        "colab": {
          "base_uri": "https://localhost:8080/"
        },
        "id": "1h2uH-y8xs8L",
        "outputId": "2ecd2666-b5cc-4e80-ad51-6f347c3d7a8f"
      },
      "outputs": [
        {
          "output_type": "stream",
          "name": "stdout",
          "text": [
            "0.8557692307692307\n",
            "[[32  7]\n",
            " [ 8 57]]\n"
          ]
        }
      ],
      "source": [
        "Naive_bayes_Gaussian_nb=accuracy_score(pre4,y_test)\n",
        "print(accuracy_score(pre4,y_test))\n",
        "print(confusion_matrix(pre4,y_test))"
      ]
    },
    {
      "cell_type": "code",
      "execution_count": null,
      "metadata": {
        "colab": {
          "base_uri": "https://localhost:8080/"
        },
        "id": "n7EoeOECxtIz",
        "outputId": "849f208b-66e1-4672-c32c-4cd4797f8352"
      },
      "outputs": [
        {
          "output_type": "stream",
          "name": "stdout",
          "text": [
            "              precision    recall  f1-score   support\n",
            "\n",
            "           0       0.80      0.82      0.81        39\n",
            "           1       0.89      0.88      0.88        65\n",
            "\n",
            "    accuracy                           0.86       104\n",
            "   macro avg       0.85      0.85      0.85       104\n",
            "weighted avg       0.86      0.86      0.86       104\n",
            "\n"
          ]
        }
      ],
      "source": [
        "from sklearn.metrics import classification_report\n",
        "print(classification_report(pre4,y_test))"
      ]
    },
    {
      "cell_type": "markdown",
      "metadata": {
        "id": "PsS7_bbcx5TB"
      },
      "source": [
        "#Decision Trees"
      ]
    },
    {
      "cell_type": "code",
      "execution_count": null,
      "metadata": {
        "colab": {
          "base_uri": "https://localhost:8080/"
        },
        "id": "sWxP95DMxtL0",
        "outputId": "f18f78ef-645b-44cf-8244-d1028fc04245"
      },
      "outputs": [
        {
          "output_type": "execute_result",
          "data": {
            "text/plain": [
              "DecisionTreeClassifier()"
            ]
          },
          "metadata": {},
          "execution_count": 304
        }
      ],
      "source": [
        "from sklearn.tree import DecisionTreeClassifier\n",
        "dc=DecisionTreeClassifier(criterion='gini')\n",
        "dc.fit(X_train,y_train)\n"
      ]
    },
    {
      "cell_type": "code",
      "execution_count": null,
      "metadata": {
        "colab": {
          "base_uri": "https://localhost:8080/"
        },
        "id": "jbj3NLPhyBUN",
        "outputId": "03157f93-1002-435b-cbc9-339adf079234"
      },
      "outputs": [
        {
          "output_type": "stream",
          "name": "stdout",
          "text": [
            "accuracy is 91.11 %\n",
            "std is 4.02 %\n"
          ]
        }
      ],
      "source": [
        "from sklearn.model_selection import cross_val_score\n",
        "accuracies = cross_val_score(estimator=dc, X=X_train ,y=y_train,cv=10)\n",
        "print(\"accuracy is {:.2f} %\".format(accuracies.mean()*100))\n",
        "print(\"std is {:.2f} %\".format(accuracies.std()*100))"
      ]
    },
    {
      "cell_type": "code",
      "execution_count": null,
      "metadata": {
        "id": "eKoYQL9nyBYD"
      },
      "outputs": [],
      "source": [
        "pre5=dc.predict(X_test)"
      ]
    },
    {
      "cell_type": "code",
      "execution_count": null,
      "metadata": {
        "colab": {
          "base_uri": "https://localhost:8080/"
        },
        "id": "hxdBIXOsyBc4",
        "outputId": "a24a22a7-36d4-4c42-83a4-94e9a58dd53e"
      },
      "outputs": [
        {
          "output_type": "stream",
          "name": "stdout",
          "text": [
            "0.9615384615384616\n",
            "[[38  2]\n",
            " [ 2 62]]\n"
          ]
        }
      ],
      "source": [
        "Decisiontress_classifier=accuracy_score(pre5,y_test)\n",
        "print(accuracy_score(pre5,y_test))\n",
        "print(confusion_matrix(pre5,y_test))"
      ]
    },
    {
      "cell_type": "code",
      "execution_count": null,
      "metadata": {
        "colab": {
          "base_uri": "https://localhost:8080/"
        },
        "id": "324Kl5ESyBgf",
        "outputId": "22746624-9772-4316-9b31-92dc1e90a330"
      },
      "outputs": [
        {
          "output_type": "stream",
          "name": "stdout",
          "text": [
            "              precision    recall  f1-score   support\n",
            "\n",
            "           0       0.95      0.95      0.95        40\n",
            "           1       0.97      0.97      0.97        64\n",
            "\n",
            "    accuracy                           0.96       104\n",
            "   macro avg       0.96      0.96      0.96       104\n",
            "weighted avg       0.96      0.96      0.96       104\n",
            "\n"
          ]
        }
      ],
      "source": [
        "from sklearn.metrics import classification_report\n",
        "print(classification_report(pre5,y_test))"
      ]
    },
    {
      "cell_type": "markdown",
      "metadata": {
        "id": "nQ14WEEpyR98"
      },
      "source": [
        "#Random Forest"
      ]
    },
    {
      "cell_type": "code",
      "execution_count": null,
      "metadata": {
        "id": "ZbJzfC6QyUnY"
      },
      "outputs": [],
      "source": [
        "from sklearn.ensemble import RandomForestClassifier\n",
        "estime=[]\n",
        "for i in range(1,100):\n",
        "    rc=RandomForestClassifier(n_estimators=i,criterion='entropy',random_state=0)\n",
        "    rc.fit(X_train,y_train)"
      ]
    },
    {
      "cell_type": "code",
      "execution_count": null,
      "metadata": {
        "colab": {
          "base_uri": "https://localhost:8080/"
        },
        "id": "_zGLw5w3yUqk",
        "outputId": "f9017401-866f-4544-dbd4-838bd191ab6f"
      },
      "outputs": [
        {
          "output_type": "stream",
          "name": "stdout",
          "text": [
            "accuracy is 89.90 %\n",
            "std is 5.60 %\n"
          ]
        }
      ],
      "source": [
        "from sklearn.model_selection import cross_val_score\n",
        "accuracies = cross_val_score(estimator=rc, X=X_train ,y=y_train,cv=10)\n",
        "print(\"accuracy is {:.2f} %\".format(accuracies.mean()*100))\n",
        "print(\"std is {:.2f} %\".format(accuracies.std()*100))"
      ]
    },
    {
      "cell_type": "code",
      "execution_count": null,
      "metadata": {
        "id": "HjoIkj1ryUtR"
      },
      "outputs": [],
      "source": [
        "pre6 = rc.predict(X_test)"
      ]
    },
    {
      "cell_type": "code",
      "execution_count": null,
      "metadata": {
        "colab": {
          "base_uri": "https://localhost:8080/"
        },
        "id": "opO6eSsGyggR",
        "outputId": "58ca1e8c-f5d7-4f92-9e7b-d213afac36d8"
      },
      "outputs": [
        {
          "output_type": "stream",
          "name": "stdout",
          "text": [
            "0.9807692307692307\n",
            "[[39  1]\n",
            " [ 1 63]]\n"
          ]
        }
      ],
      "source": [
        "Random_forest=accuracy_score(pre6,y_test)\n",
        "print(accuracy_score(pre6,y_test))\n",
        "print(confusion_matrix(pre6,y_test))"
      ]
    },
    {
      "cell_type": "code",
      "execution_count": null,
      "metadata": {
        "colab": {
          "base_uri": "https://localhost:8080/"
        },
        "id": "pjFhqvjJygk0",
        "outputId": "1043180c-3289-48a8-9c9c-11816d89863a"
      },
      "outputs": [
        {
          "output_type": "stream",
          "name": "stdout",
          "text": [
            "              precision    recall  f1-score   support\n",
            "\n",
            "           0       0.97      0.97      0.97        40\n",
            "           1       0.98      0.98      0.98        64\n",
            "\n",
            "    accuracy                           0.98       104\n",
            "   macro avg       0.98      0.98      0.98       104\n",
            "weighted avg       0.98      0.98      0.98       104\n",
            "\n"
          ]
        }
      ],
      "source": [
        "from sklearn.metrics import classification_report\n",
        "print(classification_report(pre6,y_test))"
      ]
    },
    {
      "cell_type": "markdown",
      "metadata": {
        "id": "xdhMeqJeyqW2"
      },
      "source": [
        "#Accuracies of all clasifications model overview\n"
      ]
    },
    {
      "cell_type": "code",
      "execution_count": null,
      "metadata": {
        "colab": {
          "base_uri": "https://localhost:8080/"
        },
        "id": "4oVagDj6ygnx",
        "outputId": "d5dcd7a3-88fe-4888-acc2-34d1c6de56ad"
      },
      "outputs": [
        {
          "output_type": "stream",
          "name": "stdout",
          "text": [
            "Logistic regression: 0.8942307692307693\n",
            "svmlinear: 0.9038461538461539\n",
            "svmrbf: 0.9807692307692307\n",
            "naive bayes: 0.8557692307692307\n",
            "Decision tress: 0.9615384615384616\n",
            "Random forest: 0.9807692307692307\n"
          ]
        }
      ],
      "source": [
        "print('Logistic regression:',logistic_regression)\n",
        "print('svmlinear:',svm_linear)\n",
        "print('svmrbf:',svm_rbf)\n",
        "print('naive bayes:',Naive_bayes_Gaussian_nb)\n",
        "print('Decision tress:',Decisiontress_classifier)\n",
        "print('Random forest:',Random_forest)"
      ]
    },
    {
      "cell_type": "code",
      "execution_count": null,
      "metadata": {
        "id": "ig4o-WcA4CJY"
      },
      "outputs": [],
      "source": []
    }
  ],
  "metadata": {
    "colab": {
      "toc_visible": true,
      "provenance": [],
      "authorship_tag": "ABX9TyOJXbeKD2n0IR9wpGFM7t7H",
      "include_colab_link": true
    },
    "kernelspec": {
      "display_name": "Python 3",
      "name": "python3"
    },
    "language_info": {
      "name": "python"
    }
  },
  "nbformat": 4,
  "nbformat_minor": 0
}